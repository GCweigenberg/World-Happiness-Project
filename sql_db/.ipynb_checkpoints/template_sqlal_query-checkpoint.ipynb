{
 "cells": [
  {
   "cell_type": "code",
   "execution_count": 1,
   "metadata": {},
   "outputs": [],
   "source": [
    "# Pandas\n",
    "import pandas as pd\n",
    "# SQL Alchemy\n",
    "from sqlalchemy import create_engine\n"
   ]
  },
  {
   "cell_type": "code",
   "execution_count": 2,
   "metadata": {},
   "outputs": [],
   "source": [
    "# Create Engine for  data\n",
    "my_database_path = \"Sqlite3_World_Happiness.db\"\n",
    "engine = create_engine(f\"sqlite:///{my_database_path}\")\n",
    "conn = engine.connect()"
   ]
  },
  {
   "cell_type": "code",
   "execution_count": 3,
   "metadata": {},
   "outputs": [],
   "source": [
    "# Query All Records in the the happy_2015 Table\n",
    "happy_data_2015 = pd.read_sql(\"SELECT * FROM happy_2015\", conn)\n",
    "happy_data_2015.head()\n",
    "\n",
    "# Load 2015 coordinates CSV into DataFrame\n",
    "coordinates_2015 = pd.read_csv('../csv_files/happy_coordinates2015.csv')\n",
    "coordinates_2015.head()\n",
    "\n",
    "# Merge 2015 coordinates and happy data\n",
    "data_2015 = happy_data_2015.merge(coordinates_2015,\n",
    "                                  left_on = 'country',\n",
    "                                  right_on = 'long_name',\n",
    "                                 how ='inner').drop(columns='long_name')\n",
    "\n",
    "# Change 2015 DF to JSON\n",
    "json_2015 = data_2015.to_json('../app/static/json_2015')"
   ]
  },
  {
   "cell_type": "code",
   "execution_count": 4,
   "metadata": {},
   "outputs": [],
   "source": [
    "# Query All Records in the the happy_2016 Table\n",
    "happy_data_2016 = pd.read_sql(\"SELECT * FROM happy_2016\", conn)\n",
    "\n",
    "# Load 2016 coordinates CSV into DataFrame\n",
    "coordinates_2016 = pd.read_csv('../csv_files/happy_coordinates2016.csv')\n",
    "\n",
    "# Merge 2016 coordinates and happy data\n",
    "data_2016 = happy_data_2016.merge(coordinates_2016,\n",
    "                                  left_on = 'country',\n",
    "                                  right_on = 'long_name',\n",
    "                                 how ='inner').drop(columns='long_name')\n",
    "\n",
    "# Change 2016 DF to JSON\n",
    "json_2016 = data_2016.to_json('../app/static/json_2016')"
   ]
  },
  {
   "cell_type": "code",
   "execution_count": 5,
   "metadata": {},
   "outputs": [],
   "source": [
    "# Query All Records in the the happy_2017 Table\n",
    "happy_data_2017 = pd.read_sql(\"SELECT * FROM happy_2017\", conn)\n",
    "\n",
    "# Load 2017 coordinates CSV into DataFrame\n",
    "coordinates_2017 = pd.read_csv('../csv_files/happy_coordinates2017.csv')\n",
    "\n",
    "# Merge 2017 coordinates and happy data\n",
    "data_2017 = happy_data_2017.merge(coordinates_2017,\n",
    "                                  left_on = 'country',\n",
    "                                  right_on = 'long_name',\n",
    "                                 how ='inner').drop(columns='long_name')\n",
    "\n",
    "# Change 2017 DF to JSON\n",
    "json_2017 = data_2017.to_json('../app/static/json_2017')"
   ]
  },
  {
   "cell_type": "code",
   "execution_count": 6,
   "metadata": {},
   "outputs": [],
   "source": [
    "# Query All Records in the the happy_2018 Table\n",
    "happy_data_2018 = pd.read_sql(\"SELECT * FROM happy_2018\", conn)\n",
    "\n",
    "# Load 2018 coordinates CSV into DataFrame\n",
    "coordinates_2018 = pd.read_csv('../csv_files/happy_coordinates2018.csv')\n",
    "\n",
    "# Merge 2018 coordinates and happy data\n",
    "data_2018 = happy_data_2018.merge(coordinates_2018,\n",
    "                                  left_on = 'country',\n",
    "                                  right_on = 'long_name',\n",
    "                                 how ='inner').drop(columns='long_name')\n",
    "\n",
    "# Change 2018 DF to JSON\n",
    "json_2018 = data_2018.to_json('../app/static/json_2018')"
   ]
  },
  {
   "cell_type": "code",
   "execution_count": 7,
   "metadata": {},
   "outputs": [],
   "source": [
    "# Query All Records in the the happy_2019 Table\n",
    "happy_data_2019 = pd.read_sql(\"SELECT * FROM happy_2019\", conn)\n",
    "\n",
    "# Load 2019 coordinates CSV into DataFrame\n",
    "coordinates_2019 = pd.read_csv('../csv_files/happy_coordinates2019.csv')\n",
    "\n",
    "# Merge 2019 coordinates and happy data\n",
    "data_2019 = happy_data_2019.merge(coordinates_2019,\n",
    "                                  left_on = 'country',\n",
    "                                  right_on = 'long_name',\n",
    "                                 how ='inner').drop(columns='long_name')\n",
    "\n",
    "# Change 2019 DF to JSON\n",
    "json_2019 = data_2019.to_json('../app/static/json_2019')"
   ]
  },
  {
   "cell_type": "code",
   "execution_count": 8,
   "metadata": {},
   "outputs": [],
   "source": [
    "##conn.close()"
   ]
  }
 ],
 "metadata": {
  "kernelspec": {
   "display_name": "Python 3 (ipykernel)",
   "language": "python",
   "name": "python3"
  },
  "language_info": {
   "codemirror_mode": {
    "name": "ipython",
    "version": 3
   },
   "file_extension": ".py",
   "mimetype": "text/x-python",
   "name": "python",
   "nbconvert_exporter": "python",
   "pygments_lexer": "ipython3",
   "version": "3.7.13"
  },
  "vscode": {
   "interpreter": {
    "hash": "68de68733ee2ad4c7457a2167d3c770b6919d10fbb2f956bc880b608a84d531c"
   }
  }
 },
 "nbformat": 4,
 "nbformat_minor": 2
}
