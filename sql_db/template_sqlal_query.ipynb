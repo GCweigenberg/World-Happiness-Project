{
 "cells": [
  {
   "cell_type": "code",
   "execution_count": 6,
   "metadata": {},
   "outputs": [],
   "source": [
    "# Pandas\n",
    "import pandas as pd\n",
    "# SQL Alchemy\n",
    "from sqlalchemy import create_engine\n"
   ]
  },
  {
   "cell_type": "code",
   "execution_count": 7,
   "metadata": {},
   "outputs": [],
   "source": [
    "# Create Engine for  data\n",
    "my_database_path = \"Sqlite3_World_Happiness.db\"\n",
    "engine = create_engine(f\"sqlite:///{my_database_path}\")\n",
    "conn = engine.connect()"
   ]
  },
  {
   "cell_type": "code",
   "execution_count": 8,
   "metadata": {},
   "outputs": [
    {
     "data": {
      "text/html": [
       "<div>\n",
       "<style scoped>\n",
       "    .dataframe tbody tr th:only-of-type {\n",
       "        vertical-align: middle;\n",
       "    }\n",
       "\n",
       "    .dataframe tbody tr th {\n",
       "        vertical-align: top;\n",
       "    }\n",
       "\n",
       "    .dataframe thead th {\n",
       "        text-align: right;\n",
       "    }\n",
       "</style>\n",
       "<table border=\"1\" class=\"dataframe\">\n",
       "  <thead>\n",
       "    <tr style=\"text-align: right;\">\n",
       "      <th></th>\n",
       "      <th>country</th>\n",
       "      <th>region</th>\n",
       "      <th>happiness_rank</th>\n",
       "      <th>happiness_score</th>\n",
       "      <th>economy_gdp_per_capita</th>\n",
       "      <th>family_info</th>\n",
       "      <th>health_life_expectancy</th>\n",
       "      <th>freedom</th>\n",
       "      <th>trust_government_corruption</th>\n",
       "      <th>generosity</th>\n",
       "    </tr>\n",
       "  </thead>\n",
       "  <tbody>\n",
       "    <tr>\n",
       "      <th>0</th>\n",
       "      <td>country</td>\n",
       "      <td>region</td>\n",
       "      <td>happiness_rank</td>\n",
       "      <td>happiness_score</td>\n",
       "      <td>economy_gdp_per_capita</td>\n",
       "      <td>family_info</td>\n",
       "      <td>health_life_expectancy</td>\n",
       "      <td>freedom</td>\n",
       "      <td>trust_government_corruption</td>\n",
       "      <td>generosity</td>\n",
       "    </tr>\n",
       "    <tr>\n",
       "      <th>1</th>\n",
       "      <td>Switzerland</td>\n",
       "      <td>Western Europe</td>\n",
       "      <td>1</td>\n",
       "      <td>7.587</td>\n",
       "      <td>1.39651</td>\n",
       "      <td>1.34951</td>\n",
       "      <td>0.94143</td>\n",
       "      <td>0.66557</td>\n",
       "      <td>0.41978</td>\n",
       "      <td>0.29678</td>\n",
       "    </tr>\n",
       "    <tr>\n",
       "      <th>2</th>\n",
       "      <td>Iceland</td>\n",
       "      <td>Western Europe</td>\n",
       "      <td>2</td>\n",
       "      <td>7.561</td>\n",
       "      <td>1.30232</td>\n",
       "      <td>1.40223</td>\n",
       "      <td>0.94784</td>\n",
       "      <td>0.62877</td>\n",
       "      <td>0.14145</td>\n",
       "      <td>0.4363</td>\n",
       "    </tr>\n",
       "    <tr>\n",
       "      <th>3</th>\n",
       "      <td>Denmark</td>\n",
       "      <td>Western Europe</td>\n",
       "      <td>3</td>\n",
       "      <td>7.527</td>\n",
       "      <td>1.32548</td>\n",
       "      <td>1.36058</td>\n",
       "      <td>0.87464</td>\n",
       "      <td>0.64938</td>\n",
       "      <td>0.48357</td>\n",
       "      <td>0.34139</td>\n",
       "    </tr>\n",
       "    <tr>\n",
       "      <th>4</th>\n",
       "      <td>Norway</td>\n",
       "      <td>Western Europe</td>\n",
       "      <td>4</td>\n",
       "      <td>7.522</td>\n",
       "      <td>1.459</td>\n",
       "      <td>1.33095</td>\n",
       "      <td>0.88521</td>\n",
       "      <td>0.66973</td>\n",
       "      <td>0.36503</td>\n",
       "      <td>0.34699</td>\n",
       "    </tr>\n",
       "  </tbody>\n",
       "</table>\n",
       "</div>"
      ],
      "text/plain": [
       "       country          region  happiness_rank  happiness_score  \\\n",
       "0      country          region  happiness_rank  happiness_score   \n",
       "1  Switzerland  Western Europe               1            7.587   \n",
       "2      Iceland  Western Europe               2            7.561   \n",
       "3      Denmark  Western Europe               3            7.527   \n",
       "4       Norway  Western Europe               4            7.522   \n",
       "\n",
       "   economy_gdp_per_capita  family_info  health_life_expectancy  freedom  \\\n",
       "0  economy_gdp_per_capita  family_info  health_life_expectancy  freedom   \n",
       "1                 1.39651      1.34951                 0.94143  0.66557   \n",
       "2                 1.30232      1.40223                 0.94784  0.62877   \n",
       "3                 1.32548      1.36058                 0.87464  0.64938   \n",
       "4                   1.459      1.33095                 0.88521  0.66973   \n",
       "\n",
       "   trust_government_corruption  generosity  \n",
       "0  trust_government_corruption  generosity  \n",
       "1                      0.41978     0.29678  \n",
       "2                      0.14145      0.4363  \n",
       "3                      0.48357     0.34139  \n",
       "4                      0.36503     0.34699  "
      ]
     },
     "execution_count": 8,
     "metadata": {},
     "output_type": "execute_result"
    }
   ],
   "source": [
    "# Query All Records in the the happy_2015 Table\n",
    "my_data = pd.read_sql(\"SELECT * FROM happy_2015\", conn)\n",
    "my_data.head()\n",
    "#merge\n",
    "#pandas.DataFrame.to_json Read to json"
   ]
  },
  {
   "cell_type": "code",
   "execution_count": 9,
   "metadata": {},
   "outputs": [],
   "source": [
    "conn.close()"
   ]
  }
 ],
 "metadata": {
  "kernelspec": {
   "display_name": "base",
   "language": "python",
   "name": "python3"
  },
  "language_info": {
   "codemirror_mode": {
    "name": "ipython",
    "version": 3
   },
   "file_extension": ".py",
   "mimetype": "text/x-python",
   "name": "python",
   "nbconvert_exporter": "python",
   "pygments_lexer": "ipython3",
   "version": "3.9.13"
  },
  "orig_nbformat": 4,
  "vscode": {
   "interpreter": {
    "hash": "68de68733ee2ad4c7457a2167d3c770b6919d10fbb2f956bc880b608a84d531c"
   }
  }
 },
 "nbformat": 4,
 "nbformat_minor": 2
}
