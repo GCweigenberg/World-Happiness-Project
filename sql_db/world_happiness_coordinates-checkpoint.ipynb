{
 "cells": [
  {
   "cell_type": "code",
   "execution_count": 5,
   "id": "488addb0",
   "metadata": {},
   "outputs": [],
   "source": [
    "import pandas as pd"
   ]
  },
  {
   "cell_type": "code",
   "execution_count": 6,
   "id": "980a99e0",
   "metadata": {},
   "outputs": [],
   "source": [
    "import googlemaps "
   ]
  },
  {
   "cell_type": "code",
   "execution_count": 7,
   "id": "6c9d7247",
   "metadata": {},
   "outputs": [],
   "source": [
    "gmaps_key = googlemaps.Client (key =\"googleapikeyhere\")"
   ]
  },
  {
   "cell_type": "code",
   "execution_count": 28,
   "id": "cac02819",
   "metadata": {},
   "outputs": [],
   "source": [
    "data = pd.read_csv('../CSV_Files/happy_2015.csv')\n",
    "data[\"LAT\"] = None\n",
    "data[\"LNG\"] = None"
   ]
  },
  {
   "cell_type": "code",
   "execution_count": 54,
   "id": "17e9c955",
   "metadata": {},
   "outputs": [],
   "source": [
    "coordinate_list = []\n",
    "\n",
    "for i in range (len(data)):\n",
    "    geocode_result = gmaps_key.geocode(data.iat[i,0])\n",
    "    \n",
    "    try:\n",
    "        country_locations = {}\n",
    "        lat = geocode_result[0][\"geometry\"][\"location\"][\"lat\"]\n",
    "        lon = geocode_result[0][\"geometry\"][\"location\"][\"lng\"]\n",
    "        name = geocode_result[0][\"address_components\"][0][\"long_name\"]\n",
    "        \n",
    "       # data.iat[i, data.columns.get_loc(\"lat\")]=lat\n",
    "       # data.iat[i, data.columns.get_loc(\"lon\")]=lon\n",
    "        country_locations[\"lat\"] = lat\n",
    "        country_locations[\"lon\"] = lon\n",
    "        country_locations[\"long_name\"] = name\n",
    "        coordinate_list.append(country_locations)\n",
    "\n",
    "    except:\n",
    "        lat = None\n",
    "        lon = None\n",
    "\n",
    "    \n",
    "   "
   ]
  },
  {
   "cell_type": "code",
   "execution_count": 55,
   "id": "2e87b0d2",
   "metadata": {},
   "outputs": [
    {
     "name": "stdout",
     "output_type": "stream",
     "text": [
      "[{'lat': 46.818188, 'lon': 8.227511999999999, 'long_name': 'Switzerland'}, {'lat': 64.963051, 'lon': -19.020835, 'long_name': 'Iceland'}, {'lat': 56.26392, 'lon': 9.501785, 'long_name': 'Denmark'}, {'lat': 60.47202399999999, 'lon': 8.468945999999999, 'long_name': 'Norway'}, {'lat': 56.130366, 'lon': -106.346771, 'long_name': 'Canada'}, {'lat': 61.92410999999999, 'lon': 25.748151, 'long_name': 'Finland'}, {'lat': 52.132633, 'lon': 5.291265999999999, 'long_name': 'Netherlands'}, {'lat': 60.12816100000001, 'lon': 18.643501, 'long_name': 'Sweden'}, {'lat': -40.900557, 'lon': 174.885971, 'long_name': 'New Zealand'}, {'lat': -25.274398, 'lon': 133.775136, 'long_name': 'Australia'}, {'lat': 31.046051, 'lon': 34.851612, 'long_name': 'Israel'}, {'lat': 9.748916999999999, 'lon': -83.753428, 'long_name': 'Costa Rica'}, {'lat': 47.516231, 'lon': 14.550072, 'long_name': 'Austria'}, {'lat': 23.634501, 'lon': -102.552784, 'long_name': 'Mexico'}, {'lat': 37.09024, 'lon': -95.712891, 'long_name': 'United States'}, {'lat': -14.235004, 'lon': -51.92528, 'long_name': 'Brazil'}, {'lat': 49.815273, 'lon': 6.129582999999999, 'long_name': 'Luxembourg'}, {'lat': 53.1423672, 'lon': -7.692053599999999, 'long_name': 'Ireland'}, {'lat': 50.503887, 'lon': 4.469936, 'long_name': 'Belgium'}, {'lat': 23.424076, 'lon': 53.847818, 'long_name': 'United Arab Emirates'}, {'lat': 55.378051, 'lon': -3.435973, 'long_name': 'United Kingdom'}, {'lat': 21.4735329, 'lon': 55.975413, 'long_name': 'Oman'}, {'lat': 6.42375, 'lon': -66.58973, 'long_name': 'Venezuela'}, {'lat': 1.352083, 'lon': 103.819836, 'long_name': 'Singapore'}, {'lat': 8.537981, 'lon': -80.782127, 'long_name': 'Panama'}, {'lat': 51.165691, 'lon': 10.451526, 'long_name': 'Germany'}, {'lat': -35.675147, 'lon': -71.542969, 'long_name': 'Chile'}, {'lat': 25.354826, 'lon': 51.183884, 'long_name': 'Qatar'}, {'lat': 46.227638, 'lon': 2.213749, 'long_name': 'France'}, {'lat': -38.416097, 'lon': -63.61667199999999, 'long_name': 'Argentina'}, {'lat': 49.81749199999999, 'lon': 15.472962, 'long_name': 'Czechia'}, {'lat': -32.522779, 'lon': -55.765835, 'long_name': 'Uruguay'}, {'lat': 4.570868, 'lon': -74.297333, 'long_name': 'Colombia'}, {'lat': 15.870032, 'lon': 100.992541, 'long_name': 'Thailand'}, {'lat': 23.885942, 'lon': 45.079162, 'long_name': 'Saudi Arabia'}, {'lat': 40.46366700000001, 'lon': -3.74922, 'long_name': 'Spain'}, {'lat': 35.937496, 'lon': 14.375416, 'long_name': 'Malta'}, {'lat': 23.69781, 'lon': 120.960515, 'long_name': 'Taiwan'}, {'lat': 29.31166, 'lon': 47.481766, 'long_name': 'Kuwait'}, {'lat': 3.919305, 'lon': -56.027783, 'long_name': 'Suriname'}, {'lat': 10.691803, 'lon': -61.222503, 'long_name': 'Trinidad and Tobago'}, {'lat': 13.794185, 'lon': -88.89653, 'long_name': 'El Salvador'}, {'lat': 15.783471, 'lon': -90.23075899999999, 'long_name': 'Guatemala'}, {'lat': 41.377491, 'lon': 64.585262, 'long_name': 'Uzbekistan'}, {'lat': 48.669026, 'lon': 19.699024, 'long_name': 'Slovakia'}, {'lat': 36.204824, 'lon': 138.252924, 'long_name': 'Japan'}, {'lat': 35.907757, 'lon': 127.766922, 'long_name': 'South Korea'}, {'lat': -1.831239, 'lon': -78.18340599999999, 'long_name': 'Ecuador'}, {'lat': 26.0667, 'lon': 50.5577, 'long_name': 'Bahrain'}, {'lat': 41.87194, 'lon': 12.56738, 'long_name': 'Italy'}, {'lat': -16.290154, 'lon': -63.58865299999999, 'long_name': 'Bolivia'}, {'lat': 47.411631, 'lon': 28.369885, 'long_name': 'Moldova'}, {'lat': -23.442503, 'lon': -58.443832, 'long_name': 'Paraguay'}, {'lat': 48.019573, 'lon': 66.923684, 'long_name': 'Kazakhstan'}, {'lat': 46.151241, 'lon': 14.995463, 'long_name': 'Slovenia'}, {'lat': 55.169438, 'lon': 23.881275, 'long_name': 'Lithuania'}, {'lat': 12.865416, 'lon': -85.207229, 'long_name': 'Nicaragua'}, {'lat': -9.189967, 'lon': -75.015152, 'long_name': 'Peru'}, {'lat': 53.709807, 'lon': 27.953389, 'long_name': 'Belarus'}, {'lat': 51.919438, 'lon': 19.145136, 'long_name': 'Poland'}, {'lat': 4.210484, 'lon': 101.975766, 'long_name': 'Malaysia'}, {'lat': 45.1, 'lon': 15.2, 'long_name': 'Croatia'}, {'lat': 26.3351, 'lon': 17.228331, 'long_name': 'Libya'}, {'lat': 61.52401, 'lon': 105.318756, 'long_name': 'Russia'}, {'lat': 18.109581, 'lon': -77.297508, 'long_name': 'Jamaica'}, {'lat': 35.2480359, 'lon': 33.6577243, 'long_name': 'Northern Cyprus'}, {'lat': 35.126413, 'lon': 33.429859, 'long_name': 'Cyprus'}, {'lat': 28.033886, 'lon': 1.659626, 'long_name': 'Algeria'}, {'lat': 42.6026359, 'lon': 20.902977, 'long_name': 'Kosovo'}, {'lat': 38.969719, 'lon': 59.556278, 'long_name': 'Turkmenistan'}, {'lat': -20.348404, 'lon': 57.55215200000001, 'long_name': 'Mauritius'}, {'lat': 22.3193039, 'lon': 114.1693611, 'long_name': 'Hong Kong'}, {'lat': 58.595272, 'lon': 25.013607, 'long_name': 'Estonia'}, {'lat': -0.789275, 'lon': 113.921327, 'long_name': 'Indonesia'}, {'lat': 14.058324, 'lon': 108.277199, 'long_name': 'Vietnam'}, {'lat': 38.963745, 'lon': 35.243322, 'long_name': 'Türkiye'}, {'lat': 41.20438, 'lon': 74.766098, 'long_name': 'Kyrgyzstan'}, {'lat': 9.081999, 'lon': 8.675277, 'long_name': 'Nigeria'}, {'lat': 27.514162, 'lon': 90.433601, 'long_name': 'Bhutan'}, {'lat': 40.143105, 'lon': 47.576927, 'long_name': 'Azerbaijan'}, {'lat': 30.375321, 'lon': 69.34511599999999, 'long_name': 'Pakistan'}, {'lat': 42.708678, 'lon': 19.37439, 'long_name': 'Montenegro'}, {'lat': 35.86166, 'lon': 104.195397, 'long_name': 'China'}, {'lat': -13.133897, 'lon': 27.849332, 'long_name': 'Zambia'}, {'lat': 45.943161, 'lon': 24.96676, 'long_name': 'Romania'}, {'lat': 44.016521, 'lon': 21.005859, 'long_name': 'Serbia'}, {'lat': 39.39987199999999, 'lon': -8.224454, 'long_name': 'Portugal'}, {'lat': 56.879635, 'lon': 24.603189, 'long_name': 'Latvia'}, {'lat': 12.879721, 'lon': 121.774017, 'long_name': 'Philippines'}, {'lat': 9.411743399999999, 'lon': 46.8252838, 'long_name': 'Somaliland'}, {'lat': 31.791702, 'lon': -7.092619999999999, 'long_name': 'Morocco'}, {'lat': 41.608635, 'lon': 21.745275, 'long_name': 'North Macedonia'}, {'lat': -18.665695, 'lon': 35.529562, 'long_name': 'Mozambique'}, {'lat': 41.153332, 'lon': 20.168331, 'long_name': 'Albania'}, {'lat': 43.915886, 'lon': 17.679076, 'long_name': 'Bosnia and Herzegovina'}, {'lat': -29.609988, 'lon': 28.233608, 'long_name': 'Lesotho'}, {'lat': 18.735693, 'lon': -70.162651, 'long_name': 'Dominican Republic'}, {'lat': 19.85627, 'lon': 102.495496, 'long_name': 'Laos'}, {'lat': 46.862496, 'lon': 103.846656, 'long_name': 'Mongolia'}, {'lat': -26.522503, 'lon': 31.465866, 'long_name': 'Eswatini'}, {'lat': 39.074208, 'lon': 21.824312, 'long_name': 'Greece'}, {'lat': 33.854721, 'lon': 35.862285, 'long_name': 'Lebanon'}, {'lat': 47.162494, 'lon': 19.503304, 'long_name': 'Hungary'}, {'lat': 15.199999, 'lon': -86.241905, 'long_name': 'Honduras'}, {'lat': 38.861034, 'lon': 71.276093, 'long_name': 'Tajikistan'}, {'lat': 33.886917, 'lon': 9.537499, 'long_name': 'Tunisia'}, {'lat': 23.684994, 'lon': 90.356331, 'long_name': 'Bangladesh'}, {'lat': 32.427908, 'lon': 53.688046, 'long_name': 'Iran'}, {'lat': 48.379433, 'lon': 31.16558, 'long_name': 'Ukraine'}, {'lat': 33.223191, 'lon': 43.679291, 'long_name': 'Iraq'}, {'lat': -30.559482, 'lon': 22.937506, 'long_name': 'South Africa'}, {'lat': 7.946527, 'lon': -1.023194, 'long_name': 'Ghana'}, {'lat': -19.015438, 'lon': 29.154857, 'long_name': 'Zimbabwe'}, {'lat': 6.428055, 'lon': -9.429499000000002, 'long_name': 'Liberia'}, {'lat': 20.593684, 'lon': 78.96288, 'long_name': 'India'}, {'lat': 12.862807, 'lon': 30.217636, 'long_name': 'Sudan'}, {'lat': 18.971187, 'lon': -72.285215, 'long_name': 'Haiti'}, {'lat': -4.038333, 'lon': 21.758664, 'long_name': 'Democratic Republic of the Congo'}, {'lat': 28.394857, 'lon': 84.12400799999999, 'long_name': 'Nepal'}, {'lat': 9.145000000000001, 'lon': 40.489673, 'long_name': 'Ethiopia'}, {'lat': 8.460555, 'lon': -11.779889, 'long_name': 'Sierra Leone'}, {'lat': 21.00789, 'lon': -10.940835, 'long_name': 'Mauritania'}, {'lat': -0.023559, 'lon': 37.906193, 'long_name': 'Kenya'}, {'lat': 11.825138, 'lon': 42.590275, 'long_name': 'Djibouti'}, {'lat': 40.069099, 'lon': 45.038189, 'long_name': 'Armenia'}, {'lat': -22.328474, 'lon': 24.684866, 'long_name': 'Botswana'}, {'lat': 21.916221, 'lon': 95.955974, 'long_name': 'Myanmar (Burma)'}, {'lat': 32.1656221, 'lon': -82.9000751, 'long_name': 'Georgia'}, {'lat': -13.254308, 'lon': 34.301525, 'long_name': 'Malawi'}, {'lat': 7.873053999999999, 'lon': 80.77179699999999, 'long_name': 'Sri Lanka'}, {'lat': 7.369721999999999, 'lon': 12.354722, 'long_name': 'Cameroon'}, {'lat': 42.733883, 'lon': 25.48583, 'long_name': 'Bulgaria'}, {'lat': 26.820553, 'lon': 30.802498, 'long_name': 'Egypt'}, {'lat': 15.552727, 'lon': 48.516388, 'long_name': 'Yemen'}, {'lat': -11.202692, 'lon': 17.873887, 'long_name': 'Angola'}, {'lat': 17.570692, 'lon': -3.996166, 'long_name': 'Mali'}, {'lat': -0.228021, 'lon': 15.827659, 'long_name': 'Republic of the Congo'}, {'lat': -11.6455, 'lon': 43.3333, 'long_name': 'Comoros'}, {'lat': 1.373333, 'lon': 32.290275, 'long_name': 'Uganda'}, {'lat': 14.497401, 'lon': -14.452362, 'long_name': 'Senegal'}, {'lat': -0.803689, 'lon': 11.609444, 'long_name': 'Gabon'}, {'lat': 17.607789, 'lon': 8.081666, 'long_name': 'Niger'}, {'lat': 12.565679, 'lon': 104.990963, 'long_name': 'Cambodia'}, {'lat': -6.369028, 'lon': 34.888822, 'long_name': 'Tanzania'}, {'lat': -18.766947, 'lon': 46.869107, 'long_name': 'Madagascar'}, {'lat': 6.611110999999999, 'lon': 20.939444, 'long_name': 'Central African Republic'}, {'lat': 15.454166, 'lon': 18.732207, 'long_name': 'Chad'}, {'lat': 9.945587, 'lon': -9.696645, 'long_name': 'Guinea'}, {'lat': 7.539988999999999, 'lon': -5.547079999999999, 'long_name': \"Côte d'Ivoire\"}, {'lat': 12.238333, 'lon': -1.561593, 'long_name': 'Burkina Faso'}, {'lat': 33.93911, 'lon': 67.709953, 'long_name': 'Afghanistan'}, {'lat': -1.940278, 'lon': 29.873888, 'long_name': 'Rwanda'}, {'lat': 9.30769, 'lon': 2.315834, 'long_name': 'Benin'}, {'lat': 34.80207499999999, 'lon': 38.996815, 'long_name': 'Syria'}, {'lat': -3.373056, 'lon': 29.918886, 'long_name': 'Burundi'}, {'lat': 8.619543, 'lon': 0.824782, 'long_name': 'Togo'}]\n"
     ]
    }
   ],
   "source": [
    "print(coordinate_list)"
   ]
  },
  {
   "cell_type": "code",
   "execution_count": 57,
   "id": "69ff3758",
   "metadata": {},
   "outputs": [],
   "source": [
    "coordinates_2015 = pd.DataFrame(coordinate_list)"
   ]
  },
  {
   "cell_type": "code",
   "execution_count": 62,
   "id": "90dd192e",
   "metadata": {},
   "outputs": [],
   "source": [
    "coordinates_2015.to_csv(\"../CSV_Files/happy_coordinates2015.csv\", index=False)"
   ]
  },
  {
   "cell_type": "code",
   "execution_count": 58,
   "id": "4af372d3",
   "metadata": {},
   "outputs": [],
   "source": [
    "data = pd.read_csv('../CSV_Files/happy_2016.csv')\n",
    "data[\"LAT\"] = None\n",
    "data[\"LNG\"] = None"
   ]
  },
  {
   "cell_type": "code",
   "execution_count": 59,
   "id": "67c98abb",
   "metadata": {},
   "outputs": [],
   "source": [
    "coordinate_list2 = []\n",
    "\n",
    "for i in range (len(data)):\n",
    "    geocode_result = gmaps_key.geocode(data.iat[i,0])\n",
    "    \n",
    "    try:\n",
    "        country_locations = {}\n",
    "        lat = geocode_result[0][\"geometry\"][\"location\"][\"lat\"]\n",
    "        lon = geocode_result[0][\"geometry\"][\"location\"][\"lng\"]\n",
    "        name = geocode_result[0][\"address_components\"][0][\"long_name\"]\n",
    "        \n",
    "       # data.iat[i, data.columns.get_loc(\"lat\")]=lat\n",
    "       # data.iat[i, data.columns.get_loc(\"lon\")]=lon\n",
    "        country_locations[\"lat\"] = lat\n",
    "        country_locations[\"lon\"] = lon\n",
    "        country_locations[\"long_name\"] = name\n",
    "        coordinate_list2.append(country_locations)\n",
    "\n",
    "    except:\n",
    "        lat = None\n",
    "        lon = None\n",
    "\n",
    "    "
   ]
  },
  {
   "cell_type": "code",
   "execution_count": 60,
   "id": "4e23d068",
   "metadata": {},
   "outputs": [
    {
     "name": "stdout",
     "output_type": "stream",
     "text": [
      "[{'lat': 56.26392, 'lon': 9.501785, 'long_name': 'Denmark'}, {'lat': 46.818188, 'lon': 8.227511999999999, 'long_name': 'Switzerland'}, {'lat': 64.963051, 'lon': -19.020835, 'long_name': 'Iceland'}, {'lat': 60.47202399999999, 'lon': 8.468945999999999, 'long_name': 'Norway'}, {'lat': 61.92410999999999, 'lon': 25.748151, 'long_name': 'Finland'}, {'lat': 56.130366, 'lon': -106.346771, 'long_name': 'Canada'}, {'lat': 52.132633, 'lon': 5.291265999999999, 'long_name': 'Netherlands'}, {'lat': -40.900557, 'lon': 174.885971, 'long_name': 'New Zealand'}, {'lat': -25.274398, 'lon': 133.775136, 'long_name': 'Australia'}, {'lat': 60.12816100000001, 'lon': 18.643501, 'long_name': 'Sweden'}, {'lat': 31.046051, 'lon': 34.851612, 'long_name': 'Israel'}, {'lat': 47.516231, 'lon': 14.550072, 'long_name': 'Austria'}, {'lat': 37.09024, 'lon': -95.712891, 'long_name': 'United States'}, {'lat': 9.748916999999999, 'lon': -83.753428, 'long_name': 'Costa Rica'}, {'lat': 18.220833, 'lon': -66.590149, 'long_name': 'Puerto Rico'}, {'lat': 51.165691, 'lon': 10.451526, 'long_name': 'Germany'}, {'lat': -14.235004, 'lon': -51.92528, 'long_name': 'Brazil'}, {'lat': 50.503887, 'lon': 4.469936, 'long_name': 'Belgium'}, {'lat': 53.1423672, 'lon': -7.692053599999999, 'long_name': 'Ireland'}, {'lat': 49.815273, 'lon': 6.129582999999999, 'long_name': 'Luxembourg'}, {'lat': 23.634501, 'lon': -102.552784, 'long_name': 'Mexico'}, {'lat': 1.352083, 'lon': 103.819836, 'long_name': 'Singapore'}, {'lat': 55.378051, 'lon': -3.435973, 'long_name': 'United Kingdom'}, {'lat': -35.675147, 'lon': -71.542969, 'long_name': 'Chile'}, {'lat': 8.537981, 'lon': -80.782127, 'long_name': 'Panama'}, {'lat': -38.416097, 'lon': -63.61667199999999, 'long_name': 'Argentina'}, {'lat': 49.81749199999999, 'lon': 15.472962, 'long_name': 'Czechia'}, {'lat': 23.424076, 'lon': 53.847818, 'long_name': 'United Arab Emirates'}, {'lat': -32.522779, 'lon': -55.765835, 'long_name': 'Uruguay'}, {'lat': 35.937496, 'lon': 14.375416, 'long_name': 'Malta'}, {'lat': 4.570868, 'lon': -74.297333, 'long_name': 'Colombia'}, {'lat': 46.227638, 'lon': 2.213749, 'long_name': 'France'}, {'lat': 15.870032, 'lon': 100.992541, 'long_name': 'Thailand'}, {'lat': 23.885942, 'lon': 45.079162, 'long_name': 'Saudi Arabia'}, {'lat': 23.69781, 'lon': 120.960515, 'long_name': 'Taiwan'}, {'lat': 25.354826, 'lon': 51.183884, 'long_name': 'Qatar'}, {'lat': 40.46366700000001, 'lon': -3.74922, 'long_name': 'Spain'}, {'lat': 28.033886, 'lon': 1.659626, 'long_name': 'Algeria'}, {'lat': 15.783471, 'lon': -90.23075899999999, 'long_name': 'Guatemala'}, {'lat': 3.919305, 'lon': -56.027783, 'long_name': 'Suriname'}, {'lat': 29.31166, 'lon': 47.481766, 'long_name': 'Kuwait'}, {'lat': 26.0667, 'lon': 50.5577, 'long_name': 'Bahrain'}, {'lat': 10.691803, 'lon': -61.222503, 'long_name': 'Trinidad and Tobago'}, {'lat': 6.42375, 'lon': -66.58973, 'long_name': 'Venezuela'}, {'lat': 48.669026, 'lon': 19.699024, 'long_name': 'Slovakia'}, {'lat': 13.794185, 'lon': -88.89653, 'long_name': 'El Salvador'}, {'lat': 4.210484, 'lon': 101.975766, 'long_name': 'Malaysia'}, {'lat': 12.865416, 'lon': -85.207229, 'long_name': 'Nicaragua'}, {'lat': 41.377491, 'lon': 64.585262, 'long_name': 'Uzbekistan'}, {'lat': 41.87194, 'lon': 12.56738, 'long_name': 'Italy'}, {'lat': -1.831239, 'lon': -78.18340599999999, 'long_name': 'Ecuador'}, {'lat': 17.189877, 'lon': -88.49765, 'long_name': 'Belize'}, {'lat': 36.204824, 'lon': 138.252924, 'long_name': 'Japan'}, {'lat': 48.019573, 'lon': 66.923684, 'long_name': 'Kazakhstan'}, {'lat': 47.411631, 'lon': 28.369885, 'long_name': 'Moldova'}, {'lat': 61.52401, 'lon': 105.318756, 'long_name': 'Russia'}, {'lat': 51.919438, 'lon': 19.145136, 'long_name': 'Poland'}, {'lat': 35.907757, 'lon': 127.766922, 'long_name': 'South Korea'}, {'lat': -16.290154, 'lon': -63.58865299999999, 'long_name': 'Bolivia'}, {'lat': 55.169438, 'lon': 23.881275, 'long_name': 'Lithuania'}, {'lat': 53.709807, 'lon': 27.953389, 'long_name': 'Belarus'}, {'lat': 35.2480359, 'lon': 33.6577243, 'long_name': 'Northern Cyprus'}, {'lat': 46.151241, 'lon': 14.995463, 'long_name': 'Slovenia'}, {'lat': -9.189967, 'lon': -75.015152, 'long_name': 'Peru'}, {'lat': 38.969719, 'lon': 59.556278, 'long_name': 'Turkmenistan'}, {'lat': -20.348404, 'lon': 57.55215200000001, 'long_name': 'Mauritius'}, {'lat': 26.3351, 'lon': 17.228331, 'long_name': 'Libya'}, {'lat': 56.879635, 'lon': 24.603189, 'long_name': 'Latvia'}, {'lat': 35.126413, 'lon': 33.429859, 'long_name': 'Cyprus'}, {'lat': -23.442503, 'lon': -58.443832, 'long_name': 'Paraguay'}, {'lat': 45.943161, 'lon': 24.96676, 'long_name': 'Romania'}, {'lat': 58.595272, 'lon': 25.013607, 'long_name': 'Estonia'}, {'lat': 18.109581, 'lon': -77.297508, 'long_name': 'Jamaica'}, {'lat': 45.1, 'lon': 15.2, 'long_name': 'Croatia'}, {'lat': 22.3193039, 'lon': 114.1693611, 'long_name': 'Hong Kong'}, {'lat': 5.152149, 'lon': 46.199616, 'long_name': 'Somalia'}, {'lat': 42.6026359, 'lon': 20.902977, 'long_name': 'Kosovo'}, {'lat': 38.963745, 'lon': 35.243322, 'long_name': 'Türkiye'}, {'lat': -0.789275, 'lon': 113.921327, 'long_name': 'Indonesia'}, {'lat': 40.143105, 'lon': 47.576927, 'long_name': 'Azerbaijan'}, {'lat': 12.879721, 'lon': 121.774017, 'long_name': 'Philippines'}, {'lat': 35.86166, 'lon': 104.195397, 'long_name': 'China'}, {'lat': 27.514162, 'lon': 90.433601, 'long_name': 'Bhutan'}, {'lat': 41.20438, 'lon': 74.766098, 'long_name': 'Kyrgyzstan'}, {'lat': 44.016521, 'lon': 21.005859, 'long_name': 'Serbia'}, {'lat': 43.915886, 'lon': 17.679076, 'long_name': 'Bosnia and Herzegovina'}, {'lat': 42.708678, 'lon': 19.37439, 'long_name': 'Montenegro'}, {'lat': 18.735693, 'lon': -70.162651, 'long_name': 'Dominican Republic'}, {'lat': 31.791702, 'lon': -7.092619999999999, 'long_name': 'Morocco'}, {'lat': 47.162494, 'lon': 19.503304, 'long_name': 'Hungary'}, {'lat': 30.375321, 'lon': 69.34511599999999, 'long_name': 'Pakistan'}, {'lat': 33.854721, 'lon': 35.862285, 'long_name': 'Lebanon'}, {'lat': 39.39987199999999, 'lon': -8.224454, 'long_name': 'Portugal'}, {'lat': 41.608635, 'lon': 21.745275, 'long_name': 'North Macedonia'}, {'lat': 14.058324, 'lon': 108.277199, 'long_name': 'Vietnam'}, {'lat': 9.411743399999999, 'lon': 46.8252838, 'long_name': 'Somaliland'}, {'lat': 33.886917, 'lon': 9.537499, 'long_name': 'Tunisia'}, {'lat': 39.074208, 'lon': 21.824312, 'long_name': 'Greece'}, {'lat': 38.861034, 'lon': 71.276093, 'long_name': 'Tajikistan'}, {'lat': 46.862496, 'lon': 103.846656, 'long_name': 'Mongolia'}, {'lat': 19.85627, 'lon': 102.495496, 'long_name': 'Laos'}, {'lat': 9.081999, 'lon': 8.675277, 'long_name': 'Nigeria'}, {'lat': 15.199999, 'lon': -86.241905, 'long_name': 'Honduras'}, {'lat': 32.427908, 'lon': 53.688046, 'long_name': 'Iran'}, {'lat': -13.133897, 'lon': 27.849332, 'long_name': 'Zambia'}, {'lat': 28.394857, 'lon': 84.12400799999999, 'long_name': 'Nepal'}, {'lat': 41.153332, 'lon': 20.168331, 'long_name': 'Albania'}, {'lat': 23.684994, 'lon': 90.356331, 'long_name': 'Bangladesh'}, {'lat': 8.460555, 'lon': -11.779889, 'long_name': 'Sierra Leone'}, {'lat': 33.223191, 'lon': 43.679291, 'long_name': 'Iraq'}, {'lat': -22.95764, 'lon': 18.49041, 'long_name': 'Namibia'}, {'lat': 7.369721999999999, 'lon': 12.354722, 'long_name': 'Cameroon'}, {'lat': 9.145000000000001, 'lon': 40.489673, 'long_name': 'Ethiopia'}, {'lat': -30.559482, 'lon': 22.937506, 'long_name': 'South Africa'}, {'lat': 7.873053999999999, 'lon': 80.77179699999999, 'long_name': 'Sri Lanka'}, {'lat': 20.593684, 'lon': 78.96288, 'long_name': 'India'}, {'lat': 21.916221, 'lon': 95.955974, 'long_name': 'Myanmar (Burma)'}, {'lat': 26.820553, 'lon': 30.802498, 'long_name': 'Egypt'}, {'lat': 40.069099, 'lon': 45.038189, 'long_name': 'Armenia'}, {'lat': -0.023559, 'lon': 37.906193, 'long_name': 'Kenya'}, {'lat': 48.379433, 'lon': 31.16558, 'long_name': 'Ukraine'}, {'lat': 7.946527, 'lon': -1.023194, 'long_name': 'Ghana'}, {'lat': -4.038333, 'lon': 21.758664, 'long_name': 'Democratic Republic of the Congo'}, {'lat': 32.1656221, 'lon': -82.9000751, 'long_name': 'Georgia'}, {'lat': -0.228021, 'lon': 15.827659, 'long_name': 'Republic of the Congo'}, {'lat': 14.497401, 'lon': -14.452362, 'long_name': 'Senegal'}, {'lat': 42.733883, 'lon': 25.48583, 'long_name': 'Bulgaria'}, {'lat': 21.00789, 'lon': -10.940835, 'long_name': 'Mauritania'}, {'lat': -19.015438, 'lon': 29.154857, 'long_name': 'Zimbabwe'}, {'lat': -13.254308, 'lon': 34.301525, 'long_name': 'Malawi'}, {'lat': 12.862807, 'lon': 30.217636, 'long_name': 'Sudan'}, {'lat': -0.803689, 'lon': 11.609444, 'long_name': 'Gabon'}, {'lat': 17.570692, 'lon': -3.996166, 'long_name': 'Mali'}, {'lat': 18.971187, 'lon': -72.285215, 'long_name': 'Haiti'}, {'lat': -22.328474, 'lon': 24.684866, 'long_name': 'Botswana'}, {'lat': -11.6455, 'lon': 43.3333, 'long_name': 'Comoros'}, {'lat': 7.539988999999999, 'lon': -5.547079999999999, 'long_name': \"Côte d'Ivoire\"}, {'lat': 12.565679, 'lon': 104.990963, 'long_name': 'Cambodia'}, {'lat': -11.202692, 'lon': 17.873887, 'long_name': 'Angola'}, {'lat': 17.607789, 'lon': 8.081666, 'long_name': 'Niger'}, {'lat': 6.876991899999999, 'lon': 31.3069788, 'long_name': 'South Sudan'}, {'lat': 15.454166, 'lon': 18.732207, 'long_name': 'Chad'}, {'lat': 12.238333, 'lon': -1.561593, 'long_name': 'Burkina Faso'}, {'lat': 1.373333, 'lon': 32.290275, 'long_name': 'Uganda'}, {'lat': 15.552727, 'lon': 48.516388, 'long_name': 'Yemen'}, {'lat': -18.766947, 'lon': 46.869107, 'long_name': 'Madagascar'}, {'lat': -6.369028, 'lon': 34.888822, 'long_name': 'Tanzania'}, {'lat': 6.428055, 'lon': -9.429499000000002, 'long_name': 'Liberia'}, {'lat': 9.945587, 'lon': -9.696645, 'long_name': 'Guinea'}, {'lat': -1.940278, 'lon': 29.873888, 'long_name': 'Rwanda'}, {'lat': 9.30769, 'lon': 2.315834, 'long_name': 'Benin'}, {'lat': 33.93911, 'lon': 67.709953, 'long_name': 'Afghanistan'}, {'lat': 8.619543, 'lon': 0.824782, 'long_name': 'Togo'}, {'lat': 34.80207499999999, 'lon': 38.996815, 'long_name': 'Syria'}, {'lat': -3.373056, 'lon': 29.918886, 'long_name': 'Burundi'}]\n"
     ]
    }
   ],
   "source": [
    "print(coordinate_list2)"
   ]
  },
  {
   "cell_type": "code",
   "execution_count": 61,
   "id": "3054ac8a",
   "metadata": {},
   "outputs": [],
   "source": [
    "coordinates_2016 = pd.DataFrame(coordinate_list2)"
   ]
  },
  {
   "cell_type": "code",
   "execution_count": 63,
   "id": "c970e2ef",
   "metadata": {},
   "outputs": [],
   "source": [
    "coordinates_2016.to_csv(\"../CSV_Files/happy_coordinates2016.csv\", index=False)"
   ]
  },
  {
   "cell_type": "code",
   "execution_count": 64,
   "id": "cfd53dc9",
   "metadata": {},
   "outputs": [],
   "source": [
    "data = pd.read_csv('../CSV_Files/happy_2017.csv')\n",
    "data[\"LAT\"] = None\n",
    "data[\"LNG\"] = None"
   ]
  },
  {
   "cell_type": "code",
   "execution_count": 67,
   "id": "1661315d",
   "metadata": {},
   "outputs": [],
   "source": [
    "coordinate_list3 = []\n",
    "\n",
    "for i in range (len(data)):\n",
    "    geocode_result = gmaps_key.geocode(data.iat[i,0])\n",
    "    \n",
    "    try:\n",
    "        country_locations = {}\n",
    "        lat = geocode_result[0][\"geometry\"][\"location\"][\"lat\"]\n",
    "        lon = geocode_result[0][\"geometry\"][\"location\"][\"lng\"]\n",
    "        name = geocode_result[0][\"address_components\"][0][\"long_name\"]\n",
    "        \n",
    "       # data.iat[i, data.columns.get_loc(\"lat\")]=lat\n",
    "       # data.iat[i, data.columns.get_loc(\"lon\")]=lon\n",
    "        country_locations[\"lat\"] = lat\n",
    "        country_locations[\"lon\"] = lon\n",
    "        country_locations[\"long_name\"] = name\n",
    "        coordinate_list3.append(country_locations)\n",
    "\n",
    "    except:\n",
    "        lat = None\n",
    "        lon = None\n"
   ]
  },
  {
   "cell_type": "code",
   "execution_count": 68,
   "id": "6e4c5aa8",
   "metadata": {},
   "outputs": [
    {
     "name": "stdout",
     "output_type": "stream",
     "text": [
      "[{'lat': 60.47202399999999, 'lon': 8.468945999999999, 'long_name': 'Norway'}, {'lat': 56.26392, 'lon': 9.501785, 'long_name': 'Denmark'}, {'lat': 64.963051, 'lon': -19.020835, 'long_name': 'Iceland'}, {'lat': 46.818188, 'lon': 8.227511999999999, 'long_name': 'Switzerland'}, {'lat': 61.92410999999999, 'lon': 25.748151, 'long_name': 'Finland'}, {'lat': 52.132633, 'lon': 5.291265999999999, 'long_name': 'Netherlands'}, {'lat': 56.130366, 'lon': -106.346771, 'long_name': 'Canada'}, {'lat': -40.900557, 'lon': 174.885971, 'long_name': 'New Zealand'}, {'lat': 60.12816100000001, 'lon': 18.643501, 'long_name': 'Sweden'}, {'lat': -25.274398, 'lon': 133.775136, 'long_name': 'Australia'}, {'lat': 31.046051, 'lon': 34.851612, 'long_name': 'Israel'}, {'lat': 9.748916999999999, 'lon': -83.753428, 'long_name': 'Costa Rica'}, {'lat': 47.516231, 'lon': 14.550072, 'long_name': 'Austria'}, {'lat': 37.09024, 'lon': -95.712891, 'long_name': 'United States'}, {'lat': 53.1423672, 'lon': -7.692053599999999, 'long_name': 'Ireland'}, {'lat': 51.165691, 'lon': 10.451526, 'long_name': 'Germany'}, {'lat': 50.503887, 'lon': 4.469936, 'long_name': 'Belgium'}, {'lat': 49.815273, 'lon': 6.129582999999999, 'long_name': 'Luxembourg'}, {'lat': 55.378051, 'lon': -3.435973, 'long_name': 'United Kingdom'}, {'lat': -35.675147, 'lon': -71.542969, 'long_name': 'Chile'}, {'lat': 23.424076, 'lon': 53.847818, 'long_name': 'United Arab Emirates'}, {'lat': -14.235004, 'lon': -51.92528, 'long_name': 'Brazil'}, {'lat': 49.81749199999999, 'lon': 15.472962, 'long_name': 'Czechia'}, {'lat': -38.416097, 'lon': -63.61667199999999, 'long_name': 'Argentina'}, {'lat': 23.634501, 'lon': -102.552784, 'long_name': 'Mexico'}, {'lat': 1.352083, 'lon': 103.819836, 'long_name': 'Singapore'}, {'lat': 35.937496, 'lon': 14.375416, 'long_name': 'Malta'}, {'lat': -32.522779, 'lon': -55.765835, 'long_name': 'Uruguay'}, {'lat': 15.783471, 'lon': -90.23075899999999, 'long_name': 'Guatemala'}, {'lat': 8.537981, 'lon': -80.782127, 'long_name': 'Panama'}, {'lat': 46.227638, 'lon': 2.213749, 'long_name': 'France'}, {'lat': 15.870032, 'lon': 100.992541, 'long_name': 'Thailand'}, {'lat': 23.69781, 'lon': 120.960515, 'long_name': 'Taiwan'}, {'lat': 40.46366700000001, 'lon': -3.74922, 'long_name': 'Spain'}, {'lat': 25.354826, 'lon': 51.183884, 'long_name': 'Qatar'}, {'lat': 4.570868, 'lon': -74.297333, 'long_name': 'Colombia'}, {'lat': 23.885942, 'lon': 45.079162, 'long_name': 'Saudi Arabia'}, {'lat': 10.691803, 'lon': -61.222503, 'long_name': 'Trinidad and Tobago'}, {'lat': 29.31166, 'lon': 47.481766, 'long_name': 'Kuwait'}, {'lat': 48.669026, 'lon': 19.699024, 'long_name': 'Slovakia'}, {'lat': 26.0667, 'lon': 50.5577, 'long_name': 'Bahrain'}, {'lat': 4.210484, 'lon': 101.975766, 'long_name': 'Malaysia'}, {'lat': 12.865416, 'lon': -85.207229, 'long_name': 'Nicaragua'}, {'lat': -1.831239, 'lon': -78.18340599999999, 'long_name': 'Ecuador'}, {'lat': 13.794185, 'lon': -88.89653, 'long_name': 'El Salvador'}, {'lat': 51.919438, 'lon': 19.145136, 'long_name': 'Poland'}, {'lat': 41.377491, 'lon': 64.585262, 'long_name': 'Uzbekistan'}, {'lat': 41.87194, 'lon': 12.56738, 'long_name': 'Italy'}, {'lat': 61.52401, 'lon': 105.318756, 'long_name': 'Russia'}, {'lat': 17.189877, 'lon': -88.49765, 'long_name': 'Belize'}, {'lat': 36.204824, 'lon': 138.252924, 'long_name': 'Japan'}, {'lat': 55.169438, 'lon': 23.881275, 'long_name': 'Lithuania'}, {'lat': 28.033886, 'lon': 1.659626, 'long_name': 'Algeria'}, {'lat': 56.879635, 'lon': 24.603189, 'long_name': 'Latvia'}, {'lat': 35.907757, 'lon': 127.766922, 'long_name': 'South Korea'}, {'lat': 47.411631, 'lon': 28.369885, 'long_name': 'Moldova'}, {'lat': 45.943161, 'lon': 24.96676, 'long_name': 'Romania'}, {'lat': -16.290154, 'lon': -63.58865299999999, 'long_name': 'Bolivia'}, {'lat': 38.969719, 'lon': 59.556278, 'long_name': 'Turkmenistan'}, {'lat': 48.019573, 'lon': 66.923684, 'long_name': 'Kazakhstan'}, {'lat': 35.2480359, 'lon': 33.6577243, 'long_name': 'Northern Cyprus'}, {'lat': 46.151241, 'lon': 14.995463, 'long_name': 'Slovenia'}, {'lat': -9.189967, 'lon': -75.015152, 'long_name': 'Peru'}, {'lat': -20.348404, 'lon': 57.55215200000001, 'long_name': 'Mauritius'}, {'lat': 35.126413, 'lon': 33.429859, 'long_name': 'Cyprus'}, {'lat': 58.595272, 'lon': 25.013607, 'long_name': 'Estonia'}, {'lat': 53.709807, 'lon': 27.953389, 'long_name': 'Belarus'}, {'lat': 26.3351, 'lon': 17.228331, 'long_name': 'Libya'}, {'lat': 38.963745, 'lon': 35.243322, 'long_name': 'Türkiye'}, {'lat': -23.442503, 'lon': -58.443832, 'long_name': 'Paraguay'}, {'lat': 22.3193039, 'lon': 114.1693611, 'long_name': 'Hong Kong'}, {'lat': 12.879721, 'lon': 121.774017, 'long_name': 'Philippines'}, {'lat': 44.016521, 'lon': 21.005859, 'long_name': 'Serbia'}, {'lat': 47.162494, 'lon': 19.503304, 'long_name': 'Hungary'}, {'lat': 18.109581, 'lon': -77.297508, 'long_name': 'Jamaica'}, {'lat': 45.1, 'lon': 15.2, 'long_name': 'Croatia'}, {'lat': 42.6026359, 'lon': 20.902977, 'long_name': 'Kosovo'}, {'lat': 35.86166, 'lon': 104.195397, 'long_name': 'China'}, {'lat': 30.375321, 'lon': 69.34511599999999, 'long_name': 'Pakistan'}, {'lat': -0.789275, 'lon': 113.921327, 'long_name': 'Indonesia'}, {'lat': 6.42375, 'lon': -66.58973, 'long_name': 'Venezuela'}, {'lat': 42.708678, 'lon': 19.37439, 'long_name': 'Montenegro'}, {'lat': 31.791702, 'lon': -7.092619999999999, 'long_name': 'Morocco'}, {'lat': 40.143105, 'lon': 47.576927, 'long_name': 'Azerbaijan'}, {'lat': 18.735693, 'lon': -70.162651, 'long_name': 'Dominican Republic'}, {'lat': 39.074208, 'lon': 21.824312, 'long_name': 'Greece'}, {'lat': 33.854721, 'lon': 35.862285, 'long_name': 'Lebanon'}, {'lat': 39.39987199999999, 'lon': -8.224454, 'long_name': 'Portugal'}, {'lat': 43.915886, 'lon': 17.679076, 'long_name': 'Bosnia and Herzegovina'}, {'lat': 15.199999, 'lon': -86.241905, 'long_name': 'Honduras'}, {'lat': 41.608635, 'lon': 21.745275, 'long_name': 'North Macedonia'}, {'lat': 5.152149, 'lon': 46.199616, 'long_name': 'Somalia'}, {'lat': 14.058324, 'lon': 108.277199, 'long_name': 'Vietnam'}, {'lat': 9.081999, 'lon': 8.675277, 'long_name': 'Nigeria'}, {'lat': 38.861034, 'lon': 71.276093, 'long_name': 'Tajikistan'}, {'lat': 27.514162, 'lon': 90.433601, 'long_name': 'Bhutan'}, {'lat': 41.20438, 'lon': 74.766098, 'long_name': 'Kyrgyzstan'}, {'lat': 28.394857, 'lon': 84.12400799999999, 'long_name': 'Nepal'}, {'lat': 46.862496, 'lon': 103.846656, 'long_name': 'Mongolia'}, {'lat': -30.559482, 'lon': 22.937506, 'long_name': 'South Africa'}, {'lat': 33.886917, 'lon': 9.537499, 'long_name': 'Tunisia'}, {'lat': 26.820553, 'lon': 30.802498, 'long_name': 'Egypt'}, {'lat': 42.733883, 'lon': 25.48583, 'long_name': 'Bulgaria'}, {'lat': 8.460555, 'lon': -11.779889, 'long_name': 'Sierra Leone'}, {'lat': 7.369721999999999, 'lon': 12.354722, 'long_name': 'Cameroon'}, {'lat': 32.427908, 'lon': 53.688046, 'long_name': 'Iran'}, {'lat': 41.153332, 'lon': 20.168331, 'long_name': 'Albania'}, {'lat': 23.684994, 'lon': 90.356331, 'long_name': 'Bangladesh'}, {'lat': -22.95764, 'lon': 18.49041, 'long_name': 'Namibia'}, {'lat': -0.023559, 'lon': 37.906193, 'long_name': 'Kenya'}, {'lat': -18.665695, 'lon': 35.529562, 'long_name': 'Mozambique'}, {'lat': 21.916221, 'lon': 95.955974, 'long_name': 'Myanmar (Burma)'}, {'lat': 14.497401, 'lon': -14.452362, 'long_name': 'Senegal'}, {'lat': -13.133897, 'lon': 27.849332, 'long_name': 'Zambia'}, {'lat': 33.223191, 'lon': 43.679291, 'long_name': 'Iraq'}, {'lat': -0.803689, 'lon': 11.609444, 'long_name': 'Gabon'}, {'lat': 9.145000000000001, 'lon': 40.489673, 'long_name': 'Ethiopia'}, {'lat': 7.873053999999999, 'lon': 80.77179699999999, 'long_name': 'Sri Lanka'}, {'lat': 40.069099, 'lon': 45.038189, 'long_name': 'Armenia'}, {'lat': 20.593684, 'lon': 78.96288, 'long_name': 'India'}, {'lat': 21.00789, 'lon': -10.940835, 'long_name': 'Mauritania'}, {'lat': -0.228021, 'lon': 15.827659, 'long_name': 'Republic of the Congo'}, {'lat': 32.1656221, 'lon': -82.9000751, 'long_name': 'Georgia'}, {'lat': -4.038333, 'lon': 21.758664, 'long_name': 'Democratic Republic of the Congo'}, {'lat': 17.570692, 'lon': -3.996166, 'long_name': 'Mali'}, {'lat': 7.539988999999999, 'lon': -5.547079999999999, 'long_name': \"Côte d'Ivoire\"}, {'lat': 12.565679, 'lon': 104.990963, 'long_name': 'Cambodia'}, {'lat': 12.862807, 'lon': 30.217636, 'long_name': 'Sudan'}, {'lat': 7.946527, 'lon': -1.023194, 'long_name': 'Ghana'}, {'lat': 48.379433, 'lon': 31.16558, 'long_name': 'Ukraine'}, {'lat': 1.373333, 'lon': 32.290275, 'long_name': 'Uganda'}, {'lat': 12.238333, 'lon': -1.561593, 'long_name': 'Burkina Faso'}, {'lat': 17.607789, 'lon': 8.081666, 'long_name': 'Niger'}, {'lat': -13.254308, 'lon': 34.301525, 'long_name': 'Malawi'}, {'lat': 15.454166, 'lon': 18.732207, 'long_name': 'Chad'}, {'lat': -19.015438, 'lon': 29.154857, 'long_name': 'Zimbabwe'}, {'lat': -29.609988, 'lon': 28.233608, 'long_name': 'Lesotho'}, {'lat': -11.202692, 'lon': 17.873887, 'long_name': 'Angola'}, {'lat': 33.93911, 'lon': 67.709953, 'long_name': 'Afghanistan'}, {'lat': -22.328474, 'lon': 24.684866, 'long_name': 'Botswana'}, {'lat': 9.30769, 'lon': 2.315834, 'long_name': 'Benin'}, {'lat': -18.766947, 'lon': 46.869107, 'long_name': 'Madagascar'}, {'lat': 18.971187, 'lon': -72.285215, 'long_name': 'Haiti'}, {'lat': 15.552727, 'lon': 48.516388, 'long_name': 'Yemen'}, {'lat': 6.876991899999999, 'lon': 31.3069788, 'long_name': 'South Sudan'}, {'lat': 6.428055, 'lon': -9.429499000000002, 'long_name': 'Liberia'}, {'lat': 9.945587, 'lon': -9.696645, 'long_name': 'Guinea'}, {'lat': 8.619543, 'lon': 0.824782, 'long_name': 'Togo'}, {'lat': -1.940278, 'lon': 29.873888, 'long_name': 'Rwanda'}, {'lat': 34.80207499999999, 'lon': 38.996815, 'long_name': 'Syria'}, {'lat': -6.369028, 'lon': 34.888822, 'long_name': 'Tanzania'}, {'lat': -3.373056, 'lon': 29.918886, 'long_name': 'Burundi'}, {'lat': 6.611110999999999, 'lon': 20.939444, 'long_name': 'Central African Republic'}]\n"
     ]
    }
   ],
   "source": [
    "print(coordinate_list3)"
   ]
  },
  {
   "cell_type": "code",
   "execution_count": 69,
   "id": "070b5c8a",
   "metadata": {},
   "outputs": [],
   "source": [
    "coordinates_2017 = pd.DataFrame(coordinate_list3)"
   ]
  },
  {
   "cell_type": "code",
   "execution_count": 70,
   "id": "9e6197be",
   "metadata": {},
   "outputs": [],
   "source": [
    "coordinates_2017.to_csv(\"../CSV_Files/happy_coordinates2017.csv\", index=False)"
   ]
  },
  {
   "cell_type": "code",
   "execution_count": 71,
   "id": "18779607",
   "metadata": {},
   "outputs": [],
   "source": [
    "data = pd.read_csv('../CSV_Files/happy_2018.csv')\n",
    "data[\"LAT\"] = None\n",
    "data[\"LNG\"] = None"
   ]
  },
  {
   "cell_type": "code",
   "execution_count": 72,
   "id": "bb932e25",
   "metadata": {},
   "outputs": [],
   "source": [
    "coordinate_list4 = []\n",
    "\n",
    "for i in range (len(data)):\n",
    "    geocode_result = gmaps_key.geocode(data.iat[i,0])\n",
    "    \n",
    "    try:\n",
    "        country_locations = {}\n",
    "        lat = geocode_result[0][\"geometry\"][\"location\"][\"lat\"]\n",
    "        lon = geocode_result[0][\"geometry\"][\"location\"][\"lng\"]\n",
    "        name = geocode_result[0][\"address_components\"][0][\"long_name\"]\n",
    "        \n",
    "       # data.iat[i, data.columns.get_loc(\"lat\")]=lat\n",
    "       # data.iat[i, data.columns.get_loc(\"lon\")]=lon\n",
    "        country_locations[\"lat\"] = lat\n",
    "        country_locations[\"lon\"] = lon\n",
    "        country_locations[\"long_name\"] = name\n",
    "        coordinate_list4.append(country_locations)\n",
    "\n",
    "    except:\n",
    "        lat = None\n",
    "        lon = None\n"
   ]
  },
  {
   "cell_type": "code",
   "execution_count": 73,
   "id": "ac3ea9f7",
   "metadata": {},
   "outputs": [
    {
     "name": "stdout",
     "output_type": "stream",
     "text": [
      "[{'lat': 61.92410999999999, 'lon': 25.748151, 'long_name': 'Finland'}, {'lat': 60.47202399999999, 'lon': 8.468945999999999, 'long_name': 'Norway'}, {'lat': 56.26392, 'lon': 9.501785, 'long_name': 'Denmark'}, {'lat': 64.963051, 'lon': -19.020835, 'long_name': 'Iceland'}, {'lat': 46.818188, 'lon': 8.227511999999999, 'long_name': 'Switzerland'}, {'lat': 52.132633, 'lon': 5.291265999999999, 'long_name': 'Netherlands'}, {'lat': 56.130366, 'lon': -106.346771, 'long_name': 'Canada'}, {'lat': -40.900557, 'lon': 174.885971, 'long_name': 'New Zealand'}, {'lat': 60.12816100000001, 'lon': 18.643501, 'long_name': 'Sweden'}, {'lat': -25.274398, 'lon': 133.775136, 'long_name': 'Australia'}, {'lat': 55.378051, 'lon': -3.435973, 'long_name': 'United Kingdom'}, {'lat': 47.516231, 'lon': 14.550072, 'long_name': 'Austria'}, {'lat': 9.748916999999999, 'lon': -83.753428, 'long_name': 'Costa Rica'}, {'lat': 53.1423672, 'lon': -7.692053599999999, 'long_name': 'Ireland'}, {'lat': 51.165691, 'lon': 10.451526, 'long_name': 'Germany'}, {'lat': 50.503887, 'lon': 4.469936, 'long_name': 'Belgium'}, {'lat': 49.815273, 'lon': 6.129582999999999, 'long_name': 'Luxembourg'}, {'lat': 37.09024, 'lon': -95.712891, 'long_name': 'United States'}, {'lat': 31.046051, 'lon': 34.851612, 'long_name': 'Israel'}, {'lat': 23.424076, 'lon': 53.847818, 'long_name': 'United Arab Emirates'}, {'lat': 49.81749199999999, 'lon': 15.472962, 'long_name': 'Czechia'}, {'lat': 35.937496, 'lon': 14.375416, 'long_name': 'Malta'}, {'lat': 46.227638, 'lon': 2.213749, 'long_name': 'France'}, {'lat': 23.634501, 'lon': -102.552784, 'long_name': 'Mexico'}, {'lat': -35.675147, 'lon': -71.542969, 'long_name': 'Chile'}, {'lat': 23.69781, 'lon': 120.960515, 'long_name': 'Taiwan'}, {'lat': 8.537981, 'lon': -80.782127, 'long_name': 'Panama'}, {'lat': -14.235004, 'lon': -51.92528, 'long_name': 'Brazil'}, {'lat': -38.416097, 'lon': -63.61667199999999, 'long_name': 'Argentina'}, {'lat': 15.783471, 'lon': -90.23075899999999, 'long_name': 'Guatemala'}, {'lat': -32.522779, 'lon': -55.765835, 'long_name': 'Uruguay'}, {'lat': 25.354826, 'lon': 51.183884, 'long_name': 'Qatar'}, {'lat': 23.885942, 'lon': 45.079162, 'long_name': 'Saudi Arabia'}, {'lat': 1.352083, 'lon': 103.819836, 'long_name': 'Singapore'}, {'lat': 4.210484, 'lon': 101.975766, 'long_name': 'Malaysia'}, {'lat': 40.46366700000001, 'lon': -3.74922, 'long_name': 'Spain'}, {'lat': 4.570868, 'lon': -74.297333, 'long_name': 'Colombia'}, {'lat': 10.691803, 'lon': -61.222503, 'long_name': 'Trinidad and Tobago'}, {'lat': 48.669026, 'lon': 19.699024, 'long_name': 'Slovakia'}, {'lat': 13.794185, 'lon': -88.89653, 'long_name': 'El Salvador'}, {'lat': 12.865416, 'lon': -85.207229, 'long_name': 'Nicaragua'}, {'lat': 51.919438, 'lon': 19.145136, 'long_name': 'Poland'}, {'lat': 26.0667, 'lon': 50.5577, 'long_name': 'Bahrain'}, {'lat': 41.377491, 'lon': 64.585262, 'long_name': 'Uzbekistan'}, {'lat': 29.31166, 'lon': 47.481766, 'long_name': 'Kuwait'}, {'lat': 15.870032, 'lon': 100.992541, 'long_name': 'Thailand'}, {'lat': 41.87194, 'lon': 12.56738, 'long_name': 'Italy'}, {'lat': -1.831239, 'lon': -78.18340599999999, 'long_name': 'Ecuador'}, {'lat': 17.189877, 'lon': -88.49765, 'long_name': 'Belize'}, {'lat': 55.169438, 'lon': 23.881275, 'long_name': 'Lithuania'}, {'lat': 46.151241, 'lon': 14.995463, 'long_name': 'Slovenia'}, {'lat': 45.943161, 'lon': 24.96676, 'long_name': 'Romania'}, {'lat': 56.879635, 'lon': 24.603189, 'long_name': 'Latvia'}, {'lat': 36.204824, 'lon': 138.252924, 'long_name': 'Japan'}, {'lat': -20.348404, 'lon': 57.55215200000001, 'long_name': 'Mauritius'}, {'lat': 18.109581, 'lon': -77.297508, 'long_name': 'Jamaica'}, {'lat': 35.907757, 'lon': 127.766922, 'long_name': 'South Korea'}, {'lat': 35.2480359, 'lon': 33.6577243, 'long_name': 'Northern Cyprus'}, {'lat': 61.52401, 'lon': 105.318756, 'long_name': 'Russia'}, {'lat': 48.019573, 'lon': 66.923684, 'long_name': 'Kazakhstan'}, {'lat': 35.126413, 'lon': 33.429859, 'long_name': 'Cyprus'}, {'lat': -16.290154, 'lon': -63.58865299999999, 'long_name': 'Bolivia'}, {'lat': 58.595272, 'lon': 25.013607, 'long_name': 'Estonia'}, {'lat': -23.442503, 'lon': -58.443832, 'long_name': 'Paraguay'}, {'lat': -9.189967, 'lon': -75.015152, 'long_name': 'Peru'}, {'lat': 42.6026359, 'lon': 20.902977, 'long_name': 'Kosovo'}, {'lat': 47.411631, 'lon': 28.369885, 'long_name': 'Moldova'}, {'lat': 38.969719, 'lon': 59.556278, 'long_name': 'Turkmenistan'}, {'lat': 47.162494, 'lon': 19.503304, 'long_name': 'Hungary'}, {'lat': 26.3351, 'lon': 17.228331, 'long_name': 'Libya'}, {'lat': 12.879721, 'lon': 121.774017, 'long_name': 'Philippines'}, {'lat': 15.199999, 'lon': -86.241905, 'long_name': 'Honduras'}, {'lat': 53.709807, 'lon': 27.953389, 'long_name': 'Belarus'}, {'lat': 38.963745, 'lon': 35.243322, 'long_name': 'Türkiye'}, {'lat': 30.375321, 'lon': 69.34511599999999, 'long_name': 'Pakistan'}, {'lat': 22.3193039, 'lon': 114.1693611, 'long_name': 'Hong Kong'}, {'lat': 39.39987199999999, 'lon': -8.224454, 'long_name': 'Portugal'}, {'lat': 44.016521, 'lon': 21.005859, 'long_name': 'Serbia'}, {'lat': 39.074208, 'lon': 21.824312, 'long_name': 'Greece'}, {'lat': 33.854721, 'lon': 35.862285, 'long_name': 'Lebanon'}, {'lat': 42.708678, 'lon': 19.37439, 'long_name': 'Montenegro'}, {'lat': 45.1, 'lon': 15.2, 'long_name': 'Croatia'}, {'lat': 18.735693, 'lon': -70.162651, 'long_name': 'Dominican Republic'}, {'lat': 28.033886, 'lon': 1.659626, 'long_name': 'Algeria'}, {'lat': 31.791702, 'lon': -7.092619999999999, 'long_name': 'Morocco'}, {'lat': 35.86166, 'lon': 104.195397, 'long_name': 'China'}, {'lat': 40.143105, 'lon': 47.576927, 'long_name': 'Azerbaijan'}, {'lat': 38.861034, 'lon': 71.276093, 'long_name': 'Tajikistan'}, {'lat': 41.608635, 'lon': 21.745275, 'long_name': 'North Macedonia'}, {'lat': 9.081999, 'lon': 8.675277, 'long_name': 'Nigeria'}, {'lat': 41.20438, 'lon': 74.766098, 'long_name': 'Kyrgyzstan'}, {'lat': 43.915886, 'lon': 17.679076, 'long_name': 'Bosnia and Herzegovina'}, {'lat': 46.862496, 'lon': 103.846656, 'long_name': 'Mongolia'}, {'lat': 14.058324, 'lon': 108.277199, 'long_name': 'Vietnam'}, {'lat': -0.789275, 'lon': 113.921327, 'long_name': 'Indonesia'}, {'lat': 27.514162, 'lon': 90.433601, 'long_name': 'Bhutan'}, {'lat': 5.152149, 'lon': 46.199616, 'long_name': 'Somalia'}, {'lat': 7.369721999999999, 'lon': 12.354722, 'long_name': 'Cameroon'}, {'lat': 42.733883, 'lon': 25.48583, 'long_name': 'Bulgaria'}, {'lat': 28.394857, 'lon': 84.12400799999999, 'long_name': 'Nepal'}, {'lat': 6.42375, 'lon': -66.58973, 'long_name': 'Venezuela'}, {'lat': -0.803689, 'lon': 11.609444, 'long_name': 'Gabon'}, {'lat': -30.559482, 'lon': 22.937506, 'long_name': 'South Africa'}, {'lat': 32.427908, 'lon': 53.688046, 'long_name': 'Iran'}, {'lat': 7.539988999999999, 'lon': -5.547079999999999, 'long_name': \"Côte d'Ivoire\"}, {'lat': 7.946527, 'lon': -1.023194, 'long_name': 'Ghana'}, {'lat': 14.497401, 'lon': -14.452362, 'long_name': 'Senegal'}, {'lat': 19.85627, 'lon': 102.495496, 'long_name': 'Laos'}, {'lat': 33.886917, 'lon': 9.537499, 'long_name': 'Tunisia'}, {'lat': 41.153332, 'lon': 20.168331, 'long_name': 'Albania'}, {'lat': 8.460555, 'lon': -11.779889, 'long_name': 'Sierra Leone'}, {'lat': -0.228021, 'lon': 15.827659, 'long_name': 'Republic of the Congo'}, {'lat': 23.684994, 'lon': 90.356331, 'long_name': 'Bangladesh'}, {'lat': 7.873053999999999, 'lon': 80.77179699999999, 'long_name': 'Sri Lanka'}, {'lat': 33.223191, 'lon': 43.679291, 'long_name': 'Iraq'}, {'lat': 17.570692, 'lon': -3.996166, 'long_name': 'Mali'}, {'lat': -22.95764, 'lon': 18.49041, 'long_name': 'Namibia'}, {'lat': 12.565679, 'lon': 104.990963, 'long_name': 'Cambodia'}, {'lat': 12.238333, 'lon': -1.561593, 'long_name': 'Burkina Faso'}, {'lat': 26.820553, 'lon': 30.802498, 'long_name': 'Egypt'}, {'lat': -18.665695, 'lon': 35.529562, 'long_name': 'Mozambique'}, {'lat': -0.023559, 'lon': 37.906193, 'long_name': 'Kenya'}, {'lat': -13.133897, 'lon': 27.849332, 'long_name': 'Zambia'}, {'lat': 21.00789, 'lon': -10.940835, 'long_name': 'Mauritania'}, {'lat': 9.145000000000001, 'lon': 40.489673, 'long_name': 'Ethiopia'}, {'lat': 32.1656221, 'lon': -82.9000751, 'long_name': 'Georgia'}, {'lat': 40.069099, 'lon': 45.038189, 'long_name': 'Armenia'}, {'lat': 21.916221, 'lon': 95.955974, 'long_name': 'Myanmar (Burma)'}, {'lat': 15.454166, 'lon': 18.732207, 'long_name': 'Chad'}, {'lat': -4.038333, 'lon': 21.758664, 'long_name': 'Democratic Republic of the Congo'}, {'lat': 20.593684, 'lon': 78.96288, 'long_name': 'India'}, {'lat': 17.607789, 'lon': 8.081666, 'long_name': 'Niger'}, {'lat': 1.373333, 'lon': 32.290275, 'long_name': 'Uganda'}, {'lat': 9.30769, 'lon': 2.315834, 'long_name': 'Benin'}, {'lat': 12.862807, 'lon': 30.217636, 'long_name': 'Sudan'}, {'lat': 48.379433, 'lon': 31.16558, 'long_name': 'Ukraine'}, {'lat': 8.619543, 'lon': 0.824782, 'long_name': 'Togo'}, {'lat': 9.945587, 'lon': -9.696645, 'long_name': 'Guinea'}, {'lat': -29.609988, 'lon': 28.233608, 'long_name': 'Lesotho'}, {'lat': -11.202692, 'lon': 17.873887, 'long_name': 'Angola'}, {'lat': -18.766947, 'lon': 46.869107, 'long_name': 'Madagascar'}, {'lat': -19.015438, 'lon': 29.154857, 'long_name': 'Zimbabwe'}, {'lat': 33.93911, 'lon': 67.709953, 'long_name': 'Afghanistan'}, {'lat': -22.328474, 'lon': 24.684866, 'long_name': 'Botswana'}, {'lat': -13.254308, 'lon': 34.301525, 'long_name': 'Malawi'}, {'lat': 18.971187, 'lon': -72.285215, 'long_name': 'Haiti'}, {'lat': 6.428055, 'lon': -9.429499000000002, 'long_name': 'Liberia'}, {'lat': 34.80207499999999, 'lon': 38.996815, 'long_name': 'Syria'}, {'lat': -1.940278, 'lon': 29.873888, 'long_name': 'Rwanda'}, {'lat': 15.552727, 'lon': 48.516388, 'long_name': 'Yemen'}, {'lat': -6.369028, 'lon': 34.888822, 'long_name': 'Tanzania'}, {'lat': 6.876991899999999, 'lon': 31.3069788, 'long_name': 'South Sudan'}, {'lat': 6.611110999999999, 'lon': 20.939444, 'long_name': 'Central African Republic'}, {'lat': -3.373056, 'lon': 29.918886, 'long_name': 'Burundi'}]\n"
     ]
    }
   ],
   "source": [
    "print(coordinate_list4)"
   ]
  },
  {
   "cell_type": "code",
   "execution_count": 74,
   "id": "8cd0941a",
   "metadata": {},
   "outputs": [],
   "source": [
    "coordinates_2018 = pd.DataFrame(coordinate_list4)"
   ]
  },
  {
   "cell_type": "code",
   "execution_count": 75,
   "id": "0aa589ca",
   "metadata": {},
   "outputs": [],
   "source": [
    "coordinates_2018.to_csv(\"../CSV_Files/happy_coordinates2018.csv\", index=False)"
   ]
  },
  {
   "cell_type": "code",
   "execution_count": 76,
   "id": "791b801c",
   "metadata": {},
   "outputs": [],
   "source": [
    "data = pd.read_csv('../CSV_Files/happy_2019.csv')\n",
    "data[\"LAT\"] = None\n",
    "data[\"LNG\"] = None"
   ]
  },
  {
   "cell_type": "code",
   "execution_count": 77,
   "id": "cb30d892",
   "metadata": {},
   "outputs": [],
   "source": [
    "coordinate_list5 = []\n",
    "\n",
    "for i in range (len(data)):\n",
    "    geocode_result = gmaps_key.geocode(data.iat[i,0])\n",
    "    \n",
    "    try:\n",
    "        country_locations = {}\n",
    "        lat = geocode_result[0][\"geometry\"][\"location\"][\"lat\"]\n",
    "        lon = geocode_result[0][\"geometry\"][\"location\"][\"lng\"]\n",
    "        name = geocode_result[0][\"address_components\"][0][\"long_name\"]\n",
    "        \n",
    "       # data.iat[i, data.columns.get_loc(\"lat\")]=lat\n",
    "       # data.iat[i, data.columns.get_loc(\"lon\")]=lon\n",
    "        country_locations[\"lat\"] = lat\n",
    "        country_locations[\"lon\"] = lon\n",
    "        country_locations[\"long_name\"] = name\n",
    "        coordinate_list5.append(country_locations)\n",
    "\n",
    "    except:\n",
    "        lat = None\n",
    "        lon = None\n"
   ]
  },
  {
   "cell_type": "code",
   "execution_count": 78,
   "id": "21152313",
   "metadata": {},
   "outputs": [
    {
     "name": "stdout",
     "output_type": "stream",
     "text": [
      "[{'lat': 61.92410999999999, 'lon': 25.748151, 'long_name': 'Finland'}, {'lat': 56.26392, 'lon': 9.501785, 'long_name': 'Denmark'}, {'lat': 60.47202399999999, 'lon': 8.468945999999999, 'long_name': 'Norway'}, {'lat': 64.963051, 'lon': -19.020835, 'long_name': 'Iceland'}, {'lat': 52.132633, 'lon': 5.291265999999999, 'long_name': 'Netherlands'}, {'lat': 46.818188, 'lon': 8.227511999999999, 'long_name': 'Switzerland'}, {'lat': 60.12816100000001, 'lon': 18.643501, 'long_name': 'Sweden'}, {'lat': -40.900557, 'lon': 174.885971, 'long_name': 'New Zealand'}, {'lat': 56.130366, 'lon': -106.346771, 'long_name': 'Canada'}, {'lat': 47.516231, 'lon': 14.550072, 'long_name': 'Austria'}, {'lat': -25.274398, 'lon': 133.775136, 'long_name': 'Australia'}, {'lat': 9.748916999999999, 'lon': -83.753428, 'long_name': 'Costa Rica'}, {'lat': 31.046051, 'lon': 34.851612, 'long_name': 'Israel'}, {'lat': 49.815273, 'lon': 6.129582999999999, 'long_name': 'Luxembourg'}, {'lat': 55.378051, 'lon': -3.435973, 'long_name': 'United Kingdom'}, {'lat': 53.1423672, 'lon': -7.692053599999999, 'long_name': 'Ireland'}, {'lat': 51.165691, 'lon': 10.451526, 'long_name': 'Germany'}, {'lat': 50.503887, 'lon': 4.469936, 'long_name': 'Belgium'}, {'lat': 37.09024, 'lon': -95.712891, 'long_name': 'United States'}, {'lat': 49.81749199999999, 'lon': 15.472962, 'long_name': 'Czechia'}, {'lat': 23.424076, 'lon': 53.847818, 'long_name': 'United Arab Emirates'}, {'lat': 35.937496, 'lon': 14.375416, 'long_name': 'Malta'}, {'lat': 23.634501, 'lon': -102.552784, 'long_name': 'Mexico'}, {'lat': 46.227638, 'lon': 2.213749, 'long_name': 'France'}, {'lat': 23.69781, 'lon': 120.960515, 'long_name': 'Taiwan'}, {'lat': -35.675147, 'lon': -71.542969, 'long_name': 'Chile'}, {'lat': 15.783471, 'lon': -90.23075899999999, 'long_name': 'Guatemala'}, {'lat': 23.885942, 'lon': 45.079162, 'long_name': 'Saudi Arabia'}, {'lat': 25.354826, 'lon': 51.183884, 'long_name': 'Qatar'}, {'lat': 40.46366700000001, 'lon': -3.74922, 'long_name': 'Spain'}, {'lat': 8.537981, 'lon': -80.782127, 'long_name': 'Panama'}, {'lat': -14.235004, 'lon': -51.92528, 'long_name': 'Brazil'}, {'lat': -32.522779, 'lon': -55.765835, 'long_name': 'Uruguay'}, {'lat': 1.352083, 'lon': 103.819836, 'long_name': 'Singapore'}, {'lat': 13.794185, 'lon': -88.89653, 'long_name': 'El Salvador'}, {'lat': 41.87194, 'lon': 12.56738, 'long_name': 'Italy'}, {'lat': 26.0667, 'lon': 50.5577, 'long_name': 'Bahrain'}, {'lat': 48.669026, 'lon': 19.699024, 'long_name': 'Slovakia'}, {'lat': 10.691803, 'lon': -61.222503, 'long_name': 'Trinidad and Tobago'}, {'lat': 51.919438, 'lon': 19.145136, 'long_name': 'Poland'}, {'lat': 41.377491, 'lon': 64.585262, 'long_name': 'Uzbekistan'}, {'lat': 55.169438, 'lon': 23.881275, 'long_name': 'Lithuania'}, {'lat': 4.570868, 'lon': -74.297333, 'long_name': 'Colombia'}, {'lat': 46.151241, 'lon': 14.995463, 'long_name': 'Slovenia'}, {'lat': 12.865416, 'lon': -85.207229, 'long_name': 'Nicaragua'}, {'lat': 42.6026359, 'lon': 20.902977, 'long_name': 'Kosovo'}, {'lat': -38.416097, 'lon': -63.61667199999999, 'long_name': 'Argentina'}, {'lat': 45.943161, 'lon': 24.96676, 'long_name': 'Romania'}, {'lat': 35.126413, 'lon': 33.429859, 'long_name': 'Cyprus'}, {'lat': -1.831239, 'lon': -78.18340599999999, 'long_name': 'Ecuador'}, {'lat': 29.31166, 'lon': 47.481766, 'long_name': 'Kuwait'}, {'lat': 15.870032, 'lon': 100.992541, 'long_name': 'Thailand'}, {'lat': 56.879635, 'lon': 24.603189, 'long_name': 'Latvia'}, {'lat': 35.907757, 'lon': 127.766922, 'long_name': 'South Korea'}, {'lat': 58.595272, 'lon': 25.013607, 'long_name': 'Estonia'}, {'lat': 18.109581, 'lon': -77.297508, 'long_name': 'Jamaica'}, {'lat': -20.348404, 'lon': 57.55215200000001, 'long_name': 'Mauritius'}, {'lat': 36.204824, 'lon': 138.252924, 'long_name': 'Japan'}, {'lat': 15.199999, 'lon': -86.241905, 'long_name': 'Honduras'}, {'lat': 48.019573, 'lon': 66.923684, 'long_name': 'Kazakhstan'}, {'lat': -16.290154, 'lon': -63.58865299999999, 'long_name': 'Bolivia'}, {'lat': 47.162494, 'lon': 19.503304, 'long_name': 'Hungary'}, {'lat': -23.442503, 'lon': -58.443832, 'long_name': 'Paraguay'}, {'lat': 35.2480359, 'lon': 33.6577243, 'long_name': 'Northern Cyprus'}, {'lat': -9.189967, 'lon': -75.015152, 'long_name': 'Peru'}, {'lat': 39.39987199999999, 'lon': -8.224454, 'long_name': 'Portugal'}, {'lat': 30.375321, 'lon': 69.34511599999999, 'long_name': 'Pakistan'}, {'lat': 61.52401, 'lon': 105.318756, 'long_name': 'Russia'}, {'lat': 12.879721, 'lon': 121.774017, 'long_name': 'Philippines'}, {'lat': 44.016521, 'lon': 21.005859, 'long_name': 'Serbia'}, {'lat': 47.411631, 'lon': 28.369885, 'long_name': 'Moldova'}, {'lat': 26.3351, 'lon': 17.228331, 'long_name': 'Libya'}, {'lat': 42.708678, 'lon': 19.37439, 'long_name': 'Montenegro'}, {'lat': 38.861034, 'lon': 71.276093, 'long_name': 'Tajikistan'}, {'lat': 45.1, 'lon': 15.2, 'long_name': 'Croatia'}, {'lat': 22.3193039, 'lon': 114.1693611, 'long_name': 'Hong Kong'}, {'lat': 18.735693, 'lon': -70.162651, 'long_name': 'Dominican Republic'}, {'lat': 43.915886, 'lon': 17.679076, 'long_name': 'Bosnia and Herzegovina'}, {'lat': 38.963745, 'lon': 35.243322, 'long_name': 'Türkiye'}, {'lat': 4.210484, 'lon': 101.975766, 'long_name': 'Malaysia'}, {'lat': 53.709807, 'lon': 27.953389, 'long_name': 'Belarus'}, {'lat': 39.074208, 'lon': 21.824312, 'long_name': 'Greece'}, {'lat': 46.862496, 'lon': 103.846656, 'long_name': 'Mongolia'}, {'lat': 41.608635, 'lon': 21.745275, 'long_name': 'North Macedonia'}, {'lat': 9.081999, 'lon': 8.675277, 'long_name': 'Nigeria'}, {'lat': 41.20438, 'lon': 74.766098, 'long_name': 'Kyrgyzstan'}, {'lat': 38.969719, 'lon': 59.556278, 'long_name': 'Turkmenistan'}, {'lat': 28.033886, 'lon': 1.659626, 'long_name': 'Algeria'}, {'lat': 31.791702, 'lon': -7.092619999999999, 'long_name': 'Morocco'}, {'lat': 40.143105, 'lon': 47.576927, 'long_name': 'Azerbaijan'}, {'lat': 33.854721, 'lon': 35.862285, 'long_name': 'Lebanon'}, {'lat': -0.789275, 'lon': 113.921327, 'long_name': 'Indonesia'}, {'lat': 35.86166, 'lon': 104.195397, 'long_name': 'China'}, {'lat': 14.058324, 'lon': 108.277199, 'long_name': 'Vietnam'}, {'lat': 27.514162, 'lon': 90.433601, 'long_name': 'Bhutan'}, {'lat': 7.369721999999999, 'lon': 12.354722, 'long_name': 'Cameroon'}, {'lat': 42.733883, 'lon': 25.48583, 'long_name': 'Bulgaria'}, {'lat': 7.946527, 'lon': -1.023194, 'long_name': 'Ghana'}, {'lat': 7.539988999999999, 'lon': -5.547079999999999, 'long_name': \"Côte d'Ivoire\"}, {'lat': 28.394857, 'lon': 84.12400799999999, 'long_name': 'Nepal'}, {'lat': 9.30769, 'lon': 2.315834, 'long_name': 'Benin'}, {'lat': -0.228021, 'lon': 15.827659, 'long_name': 'Republic of the Congo'}, {'lat': -0.803689, 'lon': 11.609444, 'long_name': 'Gabon'}, {'lat': 19.85627, 'lon': 102.495496, 'long_name': 'Laos'}, {'lat': -30.559482, 'lon': 22.937506, 'long_name': 'South Africa'}, {'lat': 41.153332, 'lon': 20.168331, 'long_name': 'Albania'}, {'lat': 6.42375, 'lon': -66.58973, 'long_name': 'Venezuela'}, {'lat': 12.565679, 'lon': 104.990963, 'long_name': 'Cambodia'}, {'lat': 14.497401, 'lon': -14.452362, 'long_name': 'Senegal'}, {'lat': 5.152149, 'lon': 46.199616, 'long_name': 'Somalia'}, {'lat': -22.95764, 'lon': 18.49041, 'long_name': 'Namibia'}, {'lat': 17.607789, 'lon': 8.081666, 'long_name': 'Niger'}, {'lat': 12.238333, 'lon': -1.561593, 'long_name': 'Burkina Faso'}, {'lat': 40.069099, 'lon': 45.038189, 'long_name': 'Armenia'}, {'lat': 32.427908, 'lon': 53.688046, 'long_name': 'Iran'}, {'lat': 9.945587, 'lon': -9.696645, 'long_name': 'Guinea'}, {'lat': 32.1656221, 'lon': -82.9000751, 'long_name': 'Georgia'}, {'lat': 13.443182, 'lon': -15.310139, 'long_name': 'The Gambia'}, {'lat': -0.023559, 'lon': 37.906193, 'long_name': 'Kenya'}, {'lat': 21.00789, 'lon': -10.940835, 'long_name': 'Mauritania'}, {'lat': -18.665695, 'lon': 35.529562, 'long_name': 'Mozambique'}, {'lat': 33.886917, 'lon': 9.537499, 'long_name': 'Tunisia'}, {'lat': 23.684994, 'lon': 90.356331, 'long_name': 'Bangladesh'}, {'lat': 33.223191, 'lon': 43.679291, 'long_name': 'Iraq'}, {'lat': -4.038333, 'lon': 21.758664, 'long_name': 'Democratic Republic of the Congo'}, {'lat': 17.570692, 'lon': -3.996166, 'long_name': 'Mali'}, {'lat': 8.460555, 'lon': -11.779889, 'long_name': 'Sierra Leone'}, {'lat': 7.873053999999999, 'lon': 80.77179699999999, 'long_name': 'Sri Lanka'}, {'lat': 21.916221, 'lon': 95.955974, 'long_name': 'Myanmar (Burma)'}, {'lat': 15.454166, 'lon': 18.732207, 'long_name': 'Chad'}, {'lat': 48.379433, 'lon': 31.16558, 'long_name': 'Ukraine'}, {'lat': 9.145000000000001, 'lon': 40.489673, 'long_name': 'Ethiopia'}, {'lat': -26.522503, 'lon': 31.465866, 'long_name': 'Eswatini'}, {'lat': 1.373333, 'lon': 32.290275, 'long_name': 'Uganda'}, {'lat': 26.820553, 'lon': 30.802498, 'long_name': 'Egypt'}, {'lat': -13.133897, 'lon': 27.849332, 'long_name': 'Zambia'}, {'lat': 8.619543, 'lon': 0.824782, 'long_name': 'Togo'}, {'lat': 20.593684, 'lon': 78.96288, 'long_name': 'India'}, {'lat': 6.428055, 'lon': -9.429499000000002, 'long_name': 'Liberia'}, {'lat': -11.6455, 'lon': 43.3333, 'long_name': 'Comoros'}, {'lat': -18.766947, 'lon': 46.869107, 'long_name': 'Madagascar'}, {'lat': -29.609988, 'lon': 28.233608, 'long_name': 'Lesotho'}, {'lat': -3.373056, 'lon': 29.918886, 'long_name': 'Burundi'}, {'lat': -19.015438, 'lon': 29.154857, 'long_name': 'Zimbabwe'}, {'lat': 18.971187, 'lon': -72.285215, 'long_name': 'Haiti'}, {'lat': -22.328474, 'lon': 24.684866, 'long_name': 'Botswana'}, {'lat': 34.80207499999999, 'lon': 38.996815, 'long_name': 'Syria'}, {'lat': -13.254308, 'lon': 34.301525, 'long_name': 'Malawi'}, {'lat': 15.552727, 'lon': 48.516388, 'long_name': 'Yemen'}, {'lat': -1.940278, 'lon': 29.873888, 'long_name': 'Rwanda'}, {'lat': -6.369028, 'lon': 34.888822, 'long_name': 'Tanzania'}, {'lat': 33.93911, 'lon': 67.709953, 'long_name': 'Afghanistan'}, {'lat': 6.611110999999999, 'lon': 20.939444, 'long_name': 'Central African Republic'}, {'lat': 6.876991899999999, 'lon': 31.3069788, 'long_name': 'South Sudan'}]\n"
     ]
    }
   ],
   "source": [
    "print(coordinate_list5)"
   ]
  },
  {
   "cell_type": "code",
   "execution_count": 79,
   "id": "8d541652",
   "metadata": {},
   "outputs": [],
   "source": [
    "coordinates_2019 = pd.DataFrame(coordinate_list5)"
   ]
  },
  {
   "cell_type": "code",
   "execution_count": 80,
   "id": "374d03df",
   "metadata": {},
   "outputs": [],
   "source": [
    "coordinates_2019.to_csv(\"../CSV_Files/happy_coordinates2019.csv\", index=False)"
   ]
  },
  {
   "cell_type": "code",
   "execution_count": null,
   "id": "e17764d1",
   "metadata": {},
   "outputs": [],
   "source": []
  }
 ],
 "metadata": {
  "kernelspec": {
   "display_name": "PythonData",
   "language": "python",
   "name": "python3"
  },
  "language_info": {
   "codemirror_mode": {
    "name": "ipython",
    "version": 3
   },
   "file_extension": ".py",
   "mimetype": "text/x-python",
   "name": "python",
   "nbconvert_exporter": "python",
   "pygments_lexer": "ipython3",
   "version": "3.7.7"
  },
  "vscode": {
   "interpreter": {
    "hash": "6fe968dcedd48f38a3590e85a27b9fd2f9cd0a3228ed03d126523c0562cc0e40"
   }
  }
 },
 "nbformat": 4,
 "nbformat_minor": 5
}
