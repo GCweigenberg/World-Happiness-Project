{
 "cells": [
  {
   "cell_type": "code",
   "execution_count": 1,
   "id": "488addb0",
   "metadata": {},
   "outputs": [],
   "source": [
    "import pandas as pd"
   ]
  },
  {
   "cell_type": "code",
   "execution_count": 2,
   "id": "980a99e0",
   "metadata": {},
   "outputs": [],
   "source": [
    "import googlemaps "
   ]
  },
  {
   "cell_type": "code",
   "execution_count": 3,
   "id": "6c9d7247",
   "metadata": {},
   "outputs": [],
   "source": [
    "gmaps_key = googlemaps.Client (key =\"# apit key goes here \")"
   ]
  },
  {
   "cell_type": "code",
   "execution_count": 49,
   "id": "cac02819",
   "metadata": {},
   "outputs": [],
   "source": [
    "data = pd.read_csv('../CSV_Files/happy_2015.csv')\n",
    "data[\"LAT\"] = None\n",
    "data[\"LON\"] = None"
   ]
  },
  {
   "cell_type": "code",
   "execution_count": 44,
   "id": "17e9c955",
   "metadata": {},
   "outputs": [],
   "source": [
    "for i in range (1, len(data)):\n",
    "    geocode_result = gmaps_key.geocode(data.iat[i,0])\n",
    "    try:\n",
    "        lat = geocode_result[0][\"geometry\"][\"location\"][\"lat\"]\n",
    "        lon = geocode_result[0][\"geometry\"][\"location\"][\"lng\"]\n",
    "        data.iat[i, data.columns.get_loc(\"LAT\")]=lat\n",
    "        data.iat[i, data.columns.get_loc(\"LON\")]=lon\n",
    "    except:\n",
    "        lat = None\n",
    "        lon = None"
   ]
  },
  {
   "cell_type": "code",
   "execution_count": 46,
   "id": "157e6489",
   "metadata": {},
   "outputs": [],
   "source": [
    "geocode_df = pd.DataFrame(geocode_result)"
   ]
  },
  {
   "cell_type": "code",
   "execution_count": 47,
   "id": "5f59a3bf",
   "metadata": {},
   "outputs": [
    {
     "data": {
      "text/html": [
       "<div>\n",
       "<style scoped>\n",
       "    .dataframe tbody tr th:only-of-type {\n",
       "        vertical-align: middle;\n",
       "    }\n",
       "\n",
       "    .dataframe tbody tr th {\n",
       "        vertical-align: top;\n",
       "    }\n",
       "\n",
       "    .dataframe thead th {\n",
       "        text-align: right;\n",
       "    }\n",
       "</style>\n",
       "<table border=\"1\" class=\"dataframe\">\n",
       "  <thead>\n",
       "    <tr style=\"text-align: right;\">\n",
       "      <th></th>\n",
       "      <th>address_components</th>\n",
       "      <th>formatted_address</th>\n",
       "      <th>geometry</th>\n",
       "      <th>place_id</th>\n",
       "      <th>types</th>\n",
       "    </tr>\n",
       "  </thead>\n",
       "  <tbody>\n",
       "    <tr>\n",
       "      <th>0</th>\n",
       "      <td>[{'long_name': 'Syria', 'short_name': 'SY', 't...</td>\n",
       "      <td>Syria</td>\n",
       "      <td>{'bounds': {'northeast': {'lat': 37.318693, 'l...</td>\n",
       "      <td>ChIJp8Y8QdzmGBURIPYqiPRGdYc</td>\n",
       "      <td>[country, political]</td>\n",
       "    </tr>\n",
       "  </tbody>\n",
       "</table>\n",
       "</div>"
      ],
      "text/plain": [
       "                                  address_components formatted_address  \\\n",
       "0  [{'long_name': 'Syria', 'short_name': 'SY', 't...             Syria   \n",
       "\n",
       "                                            geometry  \\\n",
       "0  {'bounds': {'northeast': {'lat': 37.318693, 'l...   \n",
       "\n",
       "                      place_id                 types  \n",
       "0  ChIJp8Y8QdzmGBURIPYqiPRGdYc  [country, political]  "
      ]
     },
     "execution_count": 47,
     "metadata": {},
     "output_type": "execute_result"
    }
   ],
   "source": [
    "geocode_df.head()"
   ]
  },
  {
   "cell_type": "code",
   "execution_count": 48,
   "id": "90dd192e",
   "metadata": {},
   "outputs": [],
   "source": [
    "geocode_df.to_csv(\"../CSV_Files/happy_coordinates2015.csv\", index=False)"
   ]
  },
  {
   "cell_type": "code",
   "execution_count": null,
   "id": "4af372d3",
   "metadata": {},
   "outputs": [],
   "source": []
  }
 ],
 "metadata": {
  "kernelspec": {
   "display_name": "PythonData",
   "language": "python",
   "name": "python3"
  },
  "language_info": {
   "codemirror_mode": {
    "name": "ipython",
    "version": 3
   },
   "file_extension": ".py",
   "mimetype": "text/x-python",
   "name": "python",
   "nbconvert_exporter": "python",
   "pygments_lexer": "ipython3",
   "version": "3.7.7"
  },
  "vscode": {
   "interpreter": {
    "hash": "6fe968dcedd48f38a3590e85a27b9fd2f9cd0a3228ed03d126523c0562cc0e40"
   }
  }
 },
 "nbformat": 4,
 "nbformat_minor": 5
}
